{
 "cells": [
  {
   "cell_type": "code",
   "execution_count": 311,
   "metadata": {},
   "outputs": [],
   "source": [
    "import pandas as pd\n",
    "import numpy as np\n",
    "import lightgbm as lgb\n",
    "from sklearn.model_selection import train_test_split\n",
    "from sklearn.metrics import mean_squared_error\n",
    "import pandas as pd\n",
    "from sklearn.metrics import mean_absolute_error, mean_squared_error, r2_score"
   ]
  },
  {
   "cell_type": "code",
   "execution_count": 312,
   "metadata": {},
   "outputs": [],
   "source": [
    "df_rate_books = pd.read_csv(r'DB\\improved_dataset.csv')\n"
   ]
  },
  {
   "cell_type": "code",
   "execution_count": 313,
   "metadata": {},
   "outputs": [
    {
     "data": {
      "text/html": [
       "<div>\n",
       "<style scoped>\n",
       "    .dataframe tbody tr th:only-of-type {\n",
       "        vertical-align: middle;\n",
       "    }\n",
       "\n",
       "    .dataframe tbody tr th {\n",
       "        vertical-align: top;\n",
       "    }\n",
       "\n",
       "    .dataframe thead th {\n",
       "        text-align: right;\n",
       "    }\n",
       "</style>\n",
       "<table border=\"1\" class=\"dataframe\">\n",
       "  <thead>\n",
       "    <tr style=\"text-align: right;\">\n",
       "      <th></th>\n",
       "      <th>title</th>\n",
       "      <th>authors</th>\n",
       "      <th>average_rating</th>\n",
       "      <th>language_code</th>\n",
       "      <th>num_pages</th>\n",
       "      <th>ratings_count</th>\n",
       "      <th>text_reviews_count</th>\n",
       "      <th>publication_date</th>\n",
       "      <th>country_code</th>\n",
       "      <th>author_mean_rates</th>\n",
       "      <th>children</th>\n",
       "      <th>comics, graphic</th>\n",
       "      <th>fantasy, paranormal</th>\n",
       "      <th>fiction</th>\n",
       "      <th>history, historical fiction, biography</th>\n",
       "      <th>mystery, thriller, crime</th>\n",
       "      <th>non-fiction</th>\n",
       "      <th>poetry</th>\n",
       "      <th>romance</th>\n",
       "      <th>young-adult</th>\n",
       "    </tr>\n",
       "  </thead>\n",
       "  <tbody>\n",
       "    <tr>\n",
       "      <th>0</th>\n",
       "      <td>Harry Potter and the Half-Blood Prince (Harry ...</td>\n",
       "      <td>J.K. Rowling/Mary GrandPré</td>\n",
       "      <td>4.57</td>\n",
       "      <td>eng</td>\n",
       "      <td>652</td>\n",
       "      <td>2095690</td>\n",
       "      <td>27591</td>\n",
       "      <td>9/16/2006</td>\n",
       "      <td>US</td>\n",
       "      <td>4.46300</td>\n",
       "      <td>1.0</td>\n",
       "      <td>0.0</td>\n",
       "      <td>1.0</td>\n",
       "      <td>1.0</td>\n",
       "      <td>0.0</td>\n",
       "      <td>1.0</td>\n",
       "      <td>0.0</td>\n",
       "      <td>0.0</td>\n",
       "      <td>1.0</td>\n",
       "      <td>1.0</td>\n",
       "    </tr>\n",
       "    <tr>\n",
       "      <th>1</th>\n",
       "      <td>Harry Potter and the Order of the Phoenix (Har...</td>\n",
       "      <td>J.K. Rowling/Mary GrandPré</td>\n",
       "      <td>4.49</td>\n",
       "      <td>eng</td>\n",
       "      <td>870</td>\n",
       "      <td>2153167</td>\n",
       "      <td>29221</td>\n",
       "      <td>9/1/2004</td>\n",
       "      <td>US</td>\n",
       "      <td>4.46300</td>\n",
       "      <td>1.0</td>\n",
       "      <td>0.0</td>\n",
       "      <td>1.0</td>\n",
       "      <td>1.0</td>\n",
       "      <td>0.0</td>\n",
       "      <td>1.0</td>\n",
       "      <td>0.0</td>\n",
       "      <td>0.0</td>\n",
       "      <td>1.0</td>\n",
       "      <td>1.0</td>\n",
       "    </tr>\n",
       "    <tr>\n",
       "      <th>2</th>\n",
       "      <td>Harry Potter and the Chamber of Secrets (Harry...</td>\n",
       "      <td>J.K. Rowling</td>\n",
       "      <td>4.42</td>\n",
       "      <td>eng</td>\n",
       "      <td>352</td>\n",
       "      <td>6333</td>\n",
       "      <td>244</td>\n",
       "      <td>11/1/2003</td>\n",
       "      <td>US</td>\n",
       "      <td>4.44000</td>\n",
       "      <td>1.0</td>\n",
       "      <td>0.0</td>\n",
       "      <td>1.0</td>\n",
       "      <td>1.0</td>\n",
       "      <td>0.0</td>\n",
       "      <td>1.0</td>\n",
       "      <td>0.0</td>\n",
       "      <td>0.0</td>\n",
       "      <td>0.0</td>\n",
       "      <td>1.0</td>\n",
       "    </tr>\n",
       "    <tr>\n",
       "      <th>3</th>\n",
       "      <td>Harry Potter and the Prisoner of Azkaban (Harr...</td>\n",
       "      <td>J.K. Rowling/Mary GrandPré</td>\n",
       "      <td>4.56</td>\n",
       "      <td>eng</td>\n",
       "      <td>435</td>\n",
       "      <td>2339585</td>\n",
       "      <td>36325</td>\n",
       "      <td>5/1/2004</td>\n",
       "      <td>US</td>\n",
       "      <td>4.46300</td>\n",
       "      <td>1.0</td>\n",
       "      <td>0.0</td>\n",
       "      <td>1.0</td>\n",
       "      <td>1.0</td>\n",
       "      <td>0.0</td>\n",
       "      <td>1.0</td>\n",
       "      <td>0.0</td>\n",
       "      <td>0.0</td>\n",
       "      <td>0.0</td>\n",
       "      <td>1.0</td>\n",
       "    </tr>\n",
       "    <tr>\n",
       "      <th>4</th>\n",
       "      <td>Harry Potter Boxed Set  Books 1-5 (Harry Potte...</td>\n",
       "      <td>J.K. Rowling/Mary GrandPré</td>\n",
       "      <td>4.78</td>\n",
       "      <td>eng</td>\n",
       "      <td>2690</td>\n",
       "      <td>41428</td>\n",
       "      <td>164</td>\n",
       "      <td>9/13/2004</td>\n",
       "      <td>US</td>\n",
       "      <td>4.46300</td>\n",
       "      <td>1.0</td>\n",
       "      <td>0.0</td>\n",
       "      <td>1.0</td>\n",
       "      <td>1.0</td>\n",
       "      <td>0.0</td>\n",
       "      <td>1.0</td>\n",
       "      <td>0.0</td>\n",
       "      <td>0.0</td>\n",
       "      <td>0.0</td>\n",
       "      <td>1.0</td>\n",
       "    </tr>\n",
       "    <tr>\n",
       "      <th>...</th>\n",
       "      <td>...</td>\n",
       "      <td>...</td>\n",
       "      <td>...</td>\n",
       "      <td>...</td>\n",
       "      <td>...</td>\n",
       "      <td>...</td>\n",
       "      <td>...</td>\n",
       "      <td>...</td>\n",
       "      <td>...</td>\n",
       "      <td>...</td>\n",
       "      <td>...</td>\n",
       "      <td>...</td>\n",
       "      <td>...</td>\n",
       "      <td>...</td>\n",
       "      <td>...</td>\n",
       "      <td>...</td>\n",
       "      <td>...</td>\n",
       "      <td>...</td>\n",
       "      <td>...</td>\n",
       "      <td>...</td>\n",
       "    </tr>\n",
       "    <tr>\n",
       "      <th>9284</th>\n",
       "      <td>Expelled from Eden: A William T. Vollmann Reader</td>\n",
       "      <td>William T. Vollmann/Larry McCaffery/Michael He...</td>\n",
       "      <td>4.06</td>\n",
       "      <td>eng</td>\n",
       "      <td>512</td>\n",
       "      <td>156</td>\n",
       "      <td>20</td>\n",
       "      <td>12/21/2004</td>\n",
       "      <td>US</td>\n",
       "      <td>4.07112</td>\n",
       "      <td>0.0</td>\n",
       "      <td>0.0</td>\n",
       "      <td>0.0</td>\n",
       "      <td>1.0</td>\n",
       "      <td>1.0</td>\n",
       "      <td>0.0</td>\n",
       "      <td>1.0</td>\n",
       "      <td>0.0</td>\n",
       "      <td>0.0</td>\n",
       "      <td>0.0</td>\n",
       "    </tr>\n",
       "    <tr>\n",
       "      <th>9285</th>\n",
       "      <td>You Bright and Risen Angels</td>\n",
       "      <td>William T. Vollmann</td>\n",
       "      <td>4.08</td>\n",
       "      <td>eng</td>\n",
       "      <td>635</td>\n",
       "      <td>783</td>\n",
       "      <td>56</td>\n",
       "      <td>12/1/1988</td>\n",
       "      <td>US</td>\n",
       "      <td>4.08000</td>\n",
       "      <td>0.0</td>\n",
       "      <td>0.0</td>\n",
       "      <td>1.0</td>\n",
       "      <td>1.0</td>\n",
       "      <td>0.0</td>\n",
       "      <td>0.0</td>\n",
       "      <td>0.0</td>\n",
       "      <td>0.0</td>\n",
       "      <td>0.0</td>\n",
       "      <td>0.0</td>\n",
       "    </tr>\n",
       "    <tr>\n",
       "      <th>9286</th>\n",
       "      <td>The Ice-Shirt (Seven Dreams #1)</td>\n",
       "      <td>William T. Vollmann</td>\n",
       "      <td>3.96</td>\n",
       "      <td>eng</td>\n",
       "      <td>415</td>\n",
       "      <td>820</td>\n",
       "      <td>95</td>\n",
       "      <td>8/1/1993</td>\n",
       "      <td>US</td>\n",
       "      <td>4.08000</td>\n",
       "      <td>0.0</td>\n",
       "      <td>0.0</td>\n",
       "      <td>1.0</td>\n",
       "      <td>1.0</td>\n",
       "      <td>1.0</td>\n",
       "      <td>0.0</td>\n",
       "      <td>1.0</td>\n",
       "      <td>0.0</td>\n",
       "      <td>0.0</td>\n",
       "      <td>0.0</td>\n",
       "    </tr>\n",
       "    <tr>\n",
       "      <th>9287</th>\n",
       "      <td>Poor People</td>\n",
       "      <td>William T. Vollmann</td>\n",
       "      <td>3.72</td>\n",
       "      <td>eng</td>\n",
       "      <td>434</td>\n",
       "      <td>769</td>\n",
       "      <td>139</td>\n",
       "      <td>2/27/2007</td>\n",
       "      <td>US</td>\n",
       "      <td>4.08000</td>\n",
       "      <td>0.0</td>\n",
       "      <td>0.0</td>\n",
       "      <td>0.0</td>\n",
       "      <td>1.0</td>\n",
       "      <td>1.0</td>\n",
       "      <td>0.0</td>\n",
       "      <td>1.0</td>\n",
       "      <td>0.0</td>\n",
       "      <td>0.0</td>\n",
       "      <td>1.0</td>\n",
       "    </tr>\n",
       "    <tr>\n",
       "      <th>9288</th>\n",
       "      <td>Las aventuras de Tom Sawyer</td>\n",
       "      <td>Mark Twain</td>\n",
       "      <td>3.91</td>\n",
       "      <td>spa</td>\n",
       "      <td>272</td>\n",
       "      <td>113</td>\n",
       "      <td>12</td>\n",
       "      <td>5/28/2006</td>\n",
       "      <td>US</td>\n",
       "      <td>4.05000</td>\n",
       "      <td>1.0</td>\n",
       "      <td>0.0</td>\n",
       "      <td>0.0</td>\n",
       "      <td>1.0</td>\n",
       "      <td>1.0</td>\n",
       "      <td>0.0</td>\n",
       "      <td>0.0</td>\n",
       "      <td>0.0</td>\n",
       "      <td>0.0</td>\n",
       "      <td>1.0</td>\n",
       "    </tr>\n",
       "  </tbody>\n",
       "</table>\n",
       "<p>9289 rows × 20 columns</p>\n",
       "</div>"
      ],
      "text/plain": [
       "                                                  title  \\\n",
       "0     Harry Potter and the Half-Blood Prince (Harry ...   \n",
       "1     Harry Potter and the Order of the Phoenix (Har...   \n",
       "2     Harry Potter and the Chamber of Secrets (Harry...   \n",
       "3     Harry Potter and the Prisoner of Azkaban (Harr...   \n",
       "4     Harry Potter Boxed Set  Books 1-5 (Harry Potte...   \n",
       "...                                                 ...   \n",
       "9284   Expelled from Eden: A William T. Vollmann Reader   \n",
       "9285                        You Bright and Risen Angels   \n",
       "9286                    The Ice-Shirt (Seven Dreams #1)   \n",
       "9287                                        Poor People   \n",
       "9288                        Las aventuras de Tom Sawyer   \n",
       "\n",
       "                                                authors  average_rating  \\\n",
       "0                            J.K. Rowling/Mary GrandPré            4.57   \n",
       "1                            J.K. Rowling/Mary GrandPré            4.49   \n",
       "2                                          J.K. Rowling            4.42   \n",
       "3                            J.K. Rowling/Mary GrandPré            4.56   \n",
       "4                            J.K. Rowling/Mary GrandPré            4.78   \n",
       "...                                                 ...             ...   \n",
       "9284  William T. Vollmann/Larry McCaffery/Michael He...            4.06   \n",
       "9285                                William T. Vollmann            4.08   \n",
       "9286                                William T. Vollmann            3.96   \n",
       "9287                                William T. Vollmann            3.72   \n",
       "9288                                         Mark Twain            3.91   \n",
       "\n",
       "     language_code    num_pages  ratings_count  text_reviews_count  \\\n",
       "0              eng          652        2095690               27591   \n",
       "1              eng          870        2153167               29221   \n",
       "2              eng          352           6333                 244   \n",
       "3              eng          435        2339585               36325   \n",
       "4              eng         2690          41428                 164   \n",
       "...            ...          ...            ...                 ...   \n",
       "9284           eng          512            156                  20   \n",
       "9285           eng          635            783                  56   \n",
       "9286           eng          415            820                  95   \n",
       "9287           eng          434            769                 139   \n",
       "9288           spa          272            113                  12   \n",
       "\n",
       "     publication_date country_code  author_mean_rates  children  \\\n",
       "0           9/16/2006           US            4.46300       1.0   \n",
       "1            9/1/2004           US            4.46300       1.0   \n",
       "2           11/1/2003           US            4.44000       1.0   \n",
       "3            5/1/2004           US            4.46300       1.0   \n",
       "4           9/13/2004           US            4.46300       1.0   \n",
       "...               ...          ...                ...       ...   \n",
       "9284       12/21/2004           US            4.07112       0.0   \n",
       "9285        12/1/1988           US            4.08000       0.0   \n",
       "9286         8/1/1993           US            4.08000       0.0   \n",
       "9287        2/27/2007           US            4.08000       0.0   \n",
       "9288        5/28/2006           US            4.05000       1.0   \n",
       "\n",
       "      comics, graphic  fantasy, paranormal  fiction  \\\n",
       "0                 0.0                  1.0      1.0   \n",
       "1                 0.0                  1.0      1.0   \n",
       "2                 0.0                  1.0      1.0   \n",
       "3                 0.0                  1.0      1.0   \n",
       "4                 0.0                  1.0      1.0   \n",
       "...               ...                  ...      ...   \n",
       "9284              0.0                  0.0      1.0   \n",
       "9285              0.0                  1.0      1.0   \n",
       "9286              0.0                  1.0      1.0   \n",
       "9287              0.0                  0.0      1.0   \n",
       "9288              0.0                  0.0      1.0   \n",
       "\n",
       "      history, historical fiction, biography  mystery, thriller, crime  \\\n",
       "0                                        0.0                       1.0   \n",
       "1                                        0.0                       1.0   \n",
       "2                                        0.0                       1.0   \n",
       "3                                        0.0                       1.0   \n",
       "4                                        0.0                       1.0   \n",
       "...                                      ...                       ...   \n",
       "9284                                     1.0                       0.0   \n",
       "9285                                     0.0                       0.0   \n",
       "9286                                     1.0                       0.0   \n",
       "9287                                     1.0                       0.0   \n",
       "9288                                     1.0                       0.0   \n",
       "\n",
       "      non-fiction  poetry  romance  young-adult  \n",
       "0             0.0     0.0      1.0          1.0  \n",
       "1             0.0     0.0      1.0          1.0  \n",
       "2             0.0     0.0      0.0          1.0  \n",
       "3             0.0     0.0      0.0          1.0  \n",
       "4             0.0     0.0      0.0          1.0  \n",
       "...           ...     ...      ...          ...  \n",
       "9284          1.0     0.0      0.0          0.0  \n",
       "9285          0.0     0.0      0.0          0.0  \n",
       "9286          1.0     0.0      0.0          0.0  \n",
       "9287          1.0     0.0      0.0          1.0  \n",
       "9288          0.0     0.0      0.0          1.0  \n",
       "\n",
       "[9289 rows x 20 columns]"
      ]
     },
     "execution_count": 313,
     "metadata": {},
     "output_type": "execute_result"
    }
   ],
   "source": [
    "df_rate_books"
   ]
  },
  {
   "cell_type": "code",
   "execution_count": 314,
   "metadata": {},
   "outputs": [
    {
     "data": {
      "text/plain": [
       "Index(['title', 'authors', 'average_rating', 'language_code', '  num_pages',\n",
       "       'ratings_count', 'text_reviews_count', 'publication_date',\n",
       "       'country_code', 'author_mean_rates', 'children', 'comics, graphic',\n",
       "       'fantasy, paranormal', 'fiction',\n",
       "       'history, historical fiction, biography', 'mystery, thriller, crime',\n",
       "       'non-fiction', 'poetry', 'romance', 'young-adult'],\n",
       "      dtype='object')"
      ]
     },
     "execution_count": 314,
     "metadata": {},
     "output_type": "execute_result"
    }
   ],
   "source": [
    "df_rate_books.columns"
   ]
  },
  {
   "cell_type": "code",
   "execution_count": 315,
   "metadata": {},
   "outputs": [
    {
     "data": {
      "text/plain": [
       "title                                      0\n",
       "authors                                    0\n",
       "average_rating                             0\n",
       "language_code                              0\n",
       "  num_pages                                0\n",
       "ratings_count                              0\n",
       "text_reviews_count                         0\n",
       "publication_date                           0\n",
       "country_code                               0\n",
       "author_mean_rates                          0\n",
       "children                                  39\n",
       "comics, graphic                           39\n",
       "fantasy, paranormal                       39\n",
       "fiction                                   39\n",
       "history, historical fiction, biography    39\n",
       "mystery, thriller, crime                  39\n",
       "non-fiction                               39\n",
       "poetry                                    39\n",
       "romance                                   39\n",
       "young-adult                               39\n",
       "dtype: int64"
      ]
     },
     "execution_count": 315,
     "metadata": {},
     "output_type": "execute_result"
    }
   ],
   "source": [
    "df_rate_books.isnull().sum()"
   ]
  },
  {
   "cell_type": "code",
   "execution_count": 316,
   "metadata": {},
   "outputs": [],
   "source": [
    "#df_rate_books['genre'].nunique()"
   ]
  },
  {
   "cell_type": "code",
   "execution_count": 317,
   "metadata": {},
   "outputs": [],
   "source": [
    "\n",
    "# Calculate the frequency of each genre\n",
    "#genre_frequency = df_rate_books['genres'].value_counts(normalize=True)\n",
    "\n",
    "\n"
   ]
  },
  {
   "cell_type": "code",
   "execution_count": 318,
   "metadata": {},
   "outputs": [],
   "source": [
    "#genre_frequency"
   ]
  },
  {
   "cell_type": "code",
   "execution_count": 319,
   "metadata": {},
   "outputs": [],
   "source": [
    "# Map the frequency values to the 'genres' column\n",
    "#df_rate_books['genres_frequency_encoded'] = df_rate_books['genres'].map(genre_frequency)"
   ]
  },
  {
   "cell_type": "code",
   "execution_count": 320,
   "metadata": {},
   "outputs": [
    {
     "data": {
      "text/plain": [
       "Index(['title', 'authors', 'average_rating', 'language_code', '  num_pages',\n",
       "       'ratings_count', 'text_reviews_count', 'publication_date',\n",
       "       'country_code', 'author_mean_rates', 'children', 'comics, graphic',\n",
       "       'fantasy, paranormal', 'fiction',\n",
       "       'history, historical fiction, biography', 'mystery, thriller, crime',\n",
       "       'non-fiction', 'poetry', 'romance', 'young-adult'],\n",
       "      dtype='object')"
      ]
     },
     "execution_count": 320,
     "metadata": {},
     "output_type": "execute_result"
    }
   ],
   "source": [
    "df_rate_books.columns"
   ]
  },
  {
   "attachments": {},
   "cell_type": "markdown",
   "metadata": {},
   "source": [
    "<h3> Count words in titles </h3>"
   ]
  },
  {
   "cell_type": "code",
   "execution_count": 321,
   "metadata": {},
   "outputs": [],
   "source": [
    "df_rate_books['title_word_count'] = df_rate_books['title'].apply(lambda x: len(str(x).split()))\n"
   ]
  },
  {
   "attachments": {},
   "cell_type": "markdown",
   "metadata": {},
   "source": [
    "<h3> Count authors </h3>"
   ]
  },
  {
   "cell_type": "code",
   "execution_count": 322,
   "metadata": {},
   "outputs": [],
   "source": [
    "df_rate_books['authors_name_count'] = df_rate_books['authors'].apply(lambda x: len(str(x).split('/')))\n"
   ]
  },
  {
   "attachments": {},
   "cell_type": "markdown",
   "metadata": {},
   "source": [
    "<h3> Creating interaction features can capture relationships between different columns and potentially improve the predictive power of our model.</h3>\n",
    "<h4> Interaction Feature: 'author_mean_rates' and 'average_rating'</h4>"
   ]
  },
  {
   "cell_type": "code",
   "execution_count": 323,
   "metadata": {},
   "outputs": [],
   "source": [
    "df_rate_books['author_mean_rates_rating'] = df_rate_books['author_mean_rates'] * df_rate_books['average_rating']\n"
   ]
  },
  {
   "attachments": {},
   "cell_type": "markdown",
   "metadata": {},
   "source": [
    "<h4> 'num_pages' column will be divided into bins representing different ranges of page counts (0-100, 101-200, etc.). The resulting 'num_pages_bucket' column contains the corresponding bin labels for each book.</h4>"
   ]
  },
  {
   "cell_type": "code",
   "execution_count": 324,
   "metadata": {},
   "outputs": [],
   "source": [
    "# Define the bin edges\n",
    "bin_edges = [0, 100, 200, 300, 400, 500, float('inf')]  \n",
    "\n",
    "# Create labels for each bin\n",
    "bin_labels = [0, 1, 2, 3, 4, 5]"
   ]
  },
  {
   "cell_type": "code",
   "execution_count": 325,
   "metadata": {},
   "outputs": [],
   "source": [
    "# Bucketize the 'num_pages' column\n",
    "df_rate_books['num_pages_bucket'] = pd.cut(df_rate_books['  num_pages'], bins=bin_edges, labels=bin_labels, include_lowest=True)"
   ]
  },
  {
   "cell_type": "code",
   "execution_count": 326,
   "metadata": {},
   "outputs": [],
   "source": [
    "df_rate_books['country_code'] = df_rate_books['country_code'].astype('category')\n"
   ]
  },
  {
   "cell_type": "code",
   "execution_count": 327,
   "metadata": {},
   "outputs": [
    {
     "data": {
      "text/html": [
       "<div>\n",
       "<style scoped>\n",
       "    .dataframe tbody tr th:only-of-type {\n",
       "        vertical-align: middle;\n",
       "    }\n",
       "\n",
       "    .dataframe tbody tr th {\n",
       "        vertical-align: top;\n",
       "    }\n",
       "\n",
       "    .dataframe thead th {\n",
       "        text-align: right;\n",
       "    }\n",
       "</style>\n",
       "<table border=\"1\" class=\"dataframe\">\n",
       "  <thead>\n",
       "    <tr style=\"text-align: right;\">\n",
       "      <th></th>\n",
       "      <th>title</th>\n",
       "      <th>authors</th>\n",
       "      <th>average_rating</th>\n",
       "      <th>language_code</th>\n",
       "      <th>num_pages</th>\n",
       "      <th>ratings_count</th>\n",
       "      <th>text_reviews_count</th>\n",
       "      <th>publication_date</th>\n",
       "      <th>country_code</th>\n",
       "      <th>author_mean_rates</th>\n",
       "      <th>...</th>\n",
       "      <th>history, historical fiction, biography</th>\n",
       "      <th>mystery, thriller, crime</th>\n",
       "      <th>non-fiction</th>\n",
       "      <th>poetry</th>\n",
       "      <th>romance</th>\n",
       "      <th>young-adult</th>\n",
       "      <th>title_word_count</th>\n",
       "      <th>authors_name_count</th>\n",
       "      <th>author_mean_rates_rating</th>\n",
       "      <th>num_pages_bucket</th>\n",
       "    </tr>\n",
       "  </thead>\n",
       "  <tbody>\n",
       "    <tr>\n",
       "      <th>0</th>\n",
       "      <td>Harry Potter and the Half-Blood Prince (Harry ...</td>\n",
       "      <td>J.K. Rowling/Mary GrandPré</td>\n",
       "      <td>4.57</td>\n",
       "      <td>eng</td>\n",
       "      <td>652</td>\n",
       "      <td>2095690</td>\n",
       "      <td>27591</td>\n",
       "      <td>9/16/2006</td>\n",
       "      <td>US</td>\n",
       "      <td>4.463</td>\n",
       "      <td>...</td>\n",
       "      <td>0.0</td>\n",
       "      <td>1.0</td>\n",
       "      <td>0.0</td>\n",
       "      <td>0.0</td>\n",
       "      <td>1.0</td>\n",
       "      <td>1.0</td>\n",
       "      <td>9</td>\n",
       "      <td>2</td>\n",
       "      <td>20.395912</td>\n",
       "      <td>5</td>\n",
       "    </tr>\n",
       "    <tr>\n",
       "      <th>1</th>\n",
       "      <td>Harry Potter and the Order of the Phoenix (Har...</td>\n",
       "      <td>J.K. Rowling/Mary GrandPré</td>\n",
       "      <td>4.49</td>\n",
       "      <td>eng</td>\n",
       "      <td>870</td>\n",
       "      <td>2153167</td>\n",
       "      <td>29221</td>\n",
       "      <td>9/1/2004</td>\n",
       "      <td>US</td>\n",
       "      <td>4.463</td>\n",
       "      <td>...</td>\n",
       "      <td>0.0</td>\n",
       "      <td>1.0</td>\n",
       "      <td>0.0</td>\n",
       "      <td>0.0</td>\n",
       "      <td>1.0</td>\n",
       "      <td>1.0</td>\n",
       "      <td>11</td>\n",
       "      <td>2</td>\n",
       "      <td>20.038872</td>\n",
       "      <td>5</td>\n",
       "    </tr>\n",
       "    <tr>\n",
       "      <th>2</th>\n",
       "      <td>Harry Potter and the Chamber of Secrets (Harry...</td>\n",
       "      <td>J.K. Rowling</td>\n",
       "      <td>4.42</td>\n",
       "      <td>eng</td>\n",
       "      <td>352</td>\n",
       "      <td>6333</td>\n",
       "      <td>244</td>\n",
       "      <td>11/1/2003</td>\n",
       "      <td>US</td>\n",
       "      <td>4.440</td>\n",
       "      <td>...</td>\n",
       "      <td>0.0</td>\n",
       "      <td>1.0</td>\n",
       "      <td>0.0</td>\n",
       "      <td>0.0</td>\n",
       "      <td>0.0</td>\n",
       "      <td>1.0</td>\n",
       "      <td>10</td>\n",
       "      <td>1</td>\n",
       "      <td>19.624800</td>\n",
       "      <td>3</td>\n",
       "    </tr>\n",
       "    <tr>\n",
       "      <th>3</th>\n",
       "      <td>Harry Potter and the Prisoner of Azkaban (Harr...</td>\n",
       "      <td>J.K. Rowling/Mary GrandPré</td>\n",
       "      <td>4.56</td>\n",
       "      <td>eng</td>\n",
       "      <td>435</td>\n",
       "      <td>2339585</td>\n",
       "      <td>36325</td>\n",
       "      <td>5/1/2004</td>\n",
       "      <td>US</td>\n",
       "      <td>4.463</td>\n",
       "      <td>...</td>\n",
       "      <td>0.0</td>\n",
       "      <td>1.0</td>\n",
       "      <td>0.0</td>\n",
       "      <td>0.0</td>\n",
       "      <td>0.0</td>\n",
       "      <td>1.0</td>\n",
       "      <td>10</td>\n",
       "      <td>2</td>\n",
       "      <td>20.351282</td>\n",
       "      <td>4</td>\n",
       "    </tr>\n",
       "    <tr>\n",
       "      <th>4</th>\n",
       "      <td>Harry Potter Boxed Set  Books 1-5 (Harry Potte...</td>\n",
       "      <td>J.K. Rowling/Mary GrandPré</td>\n",
       "      <td>4.78</td>\n",
       "      <td>eng</td>\n",
       "      <td>2690</td>\n",
       "      <td>41428</td>\n",
       "      <td>164</td>\n",
       "      <td>9/13/2004</td>\n",
       "      <td>US</td>\n",
       "      <td>4.463</td>\n",
       "      <td>...</td>\n",
       "      <td>0.0</td>\n",
       "      <td>1.0</td>\n",
       "      <td>0.0</td>\n",
       "      <td>0.0</td>\n",
       "      <td>0.0</td>\n",
       "      <td>1.0</td>\n",
       "      <td>9</td>\n",
       "      <td>2</td>\n",
       "      <td>21.333142</td>\n",
       "      <td>5</td>\n",
       "    </tr>\n",
       "  </tbody>\n",
       "</table>\n",
       "<p>5 rows × 24 columns</p>\n",
       "</div>"
      ],
      "text/plain": [
       "                                               title  \\\n",
       "0  Harry Potter and the Half-Blood Prince (Harry ...   \n",
       "1  Harry Potter and the Order of the Phoenix (Har...   \n",
       "2  Harry Potter and the Chamber of Secrets (Harry...   \n",
       "3  Harry Potter and the Prisoner of Azkaban (Harr...   \n",
       "4  Harry Potter Boxed Set  Books 1-5 (Harry Potte...   \n",
       "\n",
       "                      authors  average_rating language_code    num_pages  \\\n",
       "0  J.K. Rowling/Mary GrandPré            4.57           eng          652   \n",
       "1  J.K. Rowling/Mary GrandPré            4.49           eng          870   \n",
       "2                J.K. Rowling            4.42           eng          352   \n",
       "3  J.K. Rowling/Mary GrandPré            4.56           eng          435   \n",
       "4  J.K. Rowling/Mary GrandPré            4.78           eng         2690   \n",
       "\n",
       "   ratings_count  text_reviews_count publication_date country_code  \\\n",
       "0        2095690               27591        9/16/2006           US   \n",
       "1        2153167               29221         9/1/2004           US   \n",
       "2           6333                 244        11/1/2003           US   \n",
       "3        2339585               36325         5/1/2004           US   \n",
       "4          41428                 164        9/13/2004           US   \n",
       "\n",
       "   author_mean_rates  ...  history, historical fiction, biography  \\\n",
       "0              4.463  ...                                     0.0   \n",
       "1              4.463  ...                                     0.0   \n",
       "2              4.440  ...                                     0.0   \n",
       "3              4.463  ...                                     0.0   \n",
       "4              4.463  ...                                     0.0   \n",
       "\n",
       "   mystery, thriller, crime  non-fiction  poetry  romance  young-adult  \\\n",
       "0                       1.0          0.0     0.0      1.0          1.0   \n",
       "1                       1.0          0.0     0.0      1.0          1.0   \n",
       "2                       1.0          0.0     0.0      0.0          1.0   \n",
       "3                       1.0          0.0     0.0      0.0          1.0   \n",
       "4                       1.0          0.0     0.0      0.0          1.0   \n",
       "\n",
       "   title_word_count  authors_name_count  author_mean_rates_rating  \\\n",
       "0                 9                   2                 20.395912   \n",
       "1                11                   2                 20.038872   \n",
       "2                10                   1                 19.624800   \n",
       "3                10                   2                 20.351282   \n",
       "4                 9                   2                 21.333142   \n",
       "\n",
       "   num_pages_bucket  \n",
       "0                 5  \n",
       "1                 5  \n",
       "2                 3  \n",
       "3                 4  \n",
       "4                 5  \n",
       "\n",
       "[5 rows x 24 columns]"
      ]
     },
     "execution_count": 327,
     "metadata": {},
     "output_type": "execute_result"
    }
   ],
   "source": [
    "df_rate_books.head()"
   ]
  },
  {
   "cell_type": "code",
   "execution_count": 328,
   "metadata": {},
   "outputs": [],
   "source": [
    "index = df_rate_books.columns\n",
    "for each in index:\n",
    "    df_rate_books = df_rate_books.rename(columns={f\"{each}\" : f\"{each.replace(',', '_').replace(' ','')}\"})"
   ]
  },
  {
   "cell_type": "code",
   "execution_count": 329,
   "metadata": {},
   "outputs": [
    {
     "data": {
      "text/plain": [
       "Index(['title', 'authors', 'average_rating', 'language_code', 'num_pages',\n",
       "       'ratings_count', 'text_reviews_count', 'publication_date',\n",
       "       'country_code', 'author_mean_rates', 'children', 'comics_graphic',\n",
       "       'fantasy_paranormal', 'fiction', 'history_historicalfiction_biography',\n",
       "       'mystery_thriller_crime', 'non-fiction', 'poetry', 'romance',\n",
       "       'young-adult', 'title_word_count', 'authors_name_count',\n",
       "       'author_mean_rates_rating', 'num_pages_bucket'],\n",
       "      dtype='object')"
      ]
     },
     "execution_count": 329,
     "metadata": {},
     "output_type": "execute_result"
    }
   ],
   "source": [
    "df_rate_books.columns"
   ]
  },
  {
   "cell_type": "code",
   "execution_count": 330,
   "metadata": {},
   "outputs": [],
   "source": [
    "df_rate_books = df_rate_books.drop(['title', 'authors','publication_date','language_code','country_code'],axis=1)"
   ]
  },
  {
   "cell_type": "code",
   "execution_count": 331,
   "metadata": {},
   "outputs": [
    {
     "data": {
      "text/plain": [
       "average_rating                         1.000000\n",
       "num_pages                              0.190740\n",
       "ratings_count                          0.046933\n",
       "text_reviews_count                     0.038394\n",
       "author_mean_rates                      0.663158\n",
       "children                               0.075475\n",
       "comics_graphic                         0.133859\n",
       "fantasy_paranormal                     0.046541\n",
       "fiction                               -0.078563\n",
       "history_historicalfiction_biography    0.042271\n",
       "mystery_thriller_crime                -0.072557\n",
       "non-fiction                            0.127522\n",
       "poetry                                 0.084826\n",
       "romance                               -0.083425\n",
       "young-adult                            0.067595\n",
       "title_word_count                       0.165544\n",
       "authors_name_count                     0.033598\n",
       "author_mean_rates_rating               0.939020\n",
       "num_pages_bucket                       0.127270\n",
       "Name: average_rating, dtype: float64"
      ]
     },
     "execution_count": 331,
     "metadata": {},
     "output_type": "execute_result"
    }
   ],
   "source": [
    "corr = df_rate_books.corr()\n",
    "corr['average_rating']"
   ]
  },
  {
   "cell_type": "code",
   "execution_count": 332,
   "metadata": {},
   "outputs": [
    {
     "data": {
      "image/png": "[encoded data removed]",
      "text/plain": [
       "<Figure size 640x480 with 1 Axes>"
      ]
     },
     "metadata": {},
     "output_type": "display_data"
    }
   ],
   "source": [
    "import seaborn as sns\n",
    "import matplotlib.pyplot as plt\n",
    "\n",
    "# Example for 'ratings_count'\n",
    "sns.boxplot(x=df_rate_books['ratings_count'])\n",
    "plt.show()\n"
   ]
  },
  {
   "cell_type": "code",
   "execution_count": 333,
   "metadata": {},
   "outputs": [],
   "source": [
    "X = df_rate_books.drop(columns=['author_mean_rates_rating','num_pages_bucket','author_mean_rates_rating'], axis=1)\n",
    "y = df_rate_books['average_rating']"
   ]
  },
  {
   "cell_type": "code",
   "execution_count": 334,
   "metadata": {},
   "outputs": [],
   "source": [
    "X_train, X_test, y_train, y_test = train_test_split(X, y, test_size=0.2, random_state=42)\n"
   ]
  },
  {
   "cell_type": "code",
   "execution_count": 335,
   "metadata": {},
   "outputs": [],
   "source": [
    "# Convert the data into LightGBM Dataset format\n",
    "train_data = lgb.Dataset(X_train, label=y_train)\n",
    "test_data = lgb.Dataset(X_test, label=y_test, reference=train_data)"
   ]
  },
  {
   "cell_type": "code",
   "execution_count": 336,
   "metadata": {},
   "outputs": [],
   "source": [
    "# Set parameters for the LightGBM model\n",
    "params = {\n",
    "    'objective': 'regression', \n",
    "    'metric': 'rmse',\n",
    "    'num_leaves': 31,\n",
    "    'learning_rate': 0.1,\n",
    "    'feature_fraction': 0.8,\n",
    "    'bagging_fraction': 0.8,\n",
    "    'bagging_freq': 5,\n",
    "    'verbose': 0,\n",
    "    'iteration':1000,\n",
    "    'early_stopping_rounds': 10  # Set early stopping rounds here\n",
    "}\n"
   ]
  },
  {
   "cell_type": "code",
   "execution_count": 337,
   "metadata": {},
   "outputs": [
    {
     "name": "stdout",
     "output_type": "stream",
     "text": [
      "[LightGBM] [Warning] Unknown parameter: iteration\n",
      "[LightGBM] [Warning] Unknown parameter: iteration\n",
      "[LightGBM] [Warning] Unknown parameter: iteration\n"
     ]
    }
   ],
   "source": [
    "# Train the model\n",
    "num_boost_round = 1000  # we can set this to a large number\n",
    "lgb_model = lgb.train(params, train_data, num_boost_round=num_boost_round,valid_sets=[test_data])"
   ]
  },
  {
   "cell_type": "code",
   "execution_count": 338,
   "metadata": {},
   "outputs": [],
   "source": [
    "y_pred = lgb_model.predict(X_test, num_iteration=lgb_model.best_iteration)\n"
   ]
  },
  {
   "cell_type": "code",
   "execution_count": 339,
   "metadata": {},
   "outputs": [
    {
     "name": "stdout",
     "output_type": "stream",
     "text": [
      "Root Mean Squared Error (RMSE): 0.010907424643431134\n"
     ]
    },
    {
     "name": "stderr",
     "output_type": "stream",
     "text": [
      "c:\\Users\\natha\\.conda\\envs\\MLP\\Lib\\site-packages\\sklearn\\metrics\\_regression.py:483: FutureWarning: 'squared' is deprecated in version 1.4 and will be removed in 1.6. To calculate the root mean squared error, use the function'root_mean_squared_error'.\n",
      "  warnings.warn(\n"
     ]
    }
   ],
   "source": [
    "rmse = mean_squared_error(y_test, y_pred, squared=False) \n",
    "print(f\"Root Mean Squared Error (RMSE): {rmse}\")"
   ]
  },
  {
   "cell_type": "code",
   "execution_count": 340,
   "metadata": {},
   "outputs": [
    {
     "data": {
      "image/png": "[encoded data removed]",
      "text/plain": [
       "<Figure size 1200x600 with 1 Axes>"
      ]
     },
     "metadata": {},
     "output_type": "display_data"
    }
   ],
   "source": [
    "import matplotlib.pyplot as plt\n",
    "# visualizing in a plot\n",
    "x_ax = range(len(y_test))\n",
    "plt.figure(figsize=(12, 6))\n",
    "plt.plot(x_ax, y_test, label=\"original\")\n",
    "plt.plot(x_ax, y_pred, label=\"predicted\")\n",
    "plt.title(\"book rating dataset test and predicted data\")\n",
    "plt.xlabel('X')\n",
    "plt.ylabel('autonomy')\n",
    "plt.legend(loc='best', fancybox=True, shadow=True)\n",
    "plt.grid(True)\n",
    "plt.show()"
   ]
  },
  {
   "attachments": {},
   "cell_type": "markdown",
   "metadata": {},
   "source": [
    " The decrease in RMSE from 0.19 to 0.017 is a positive outcome, indicating that our regression model is performing better in terms of predicting book ratings. It suggests increased accuracy and reduced prediction errors, leading to a more reliable model that's what we can see in the plot."
   ]
  },
  {
   "cell_type": "markdown",
   "metadata": {},
   "source": []
  }
 ],
 "metadata": {
  "kernelspec": {
   "display_name": "Python 3",
   "language": "python",
   "name": "python3"
  },
  "language_info": {
   "codemirror_mode": {
    "name": "ipython",
    "version": 3
   },
   "file_extension": ".py",
   "mimetype": "text/x-python",
   "name": "python",
   "nbconvert_exporter": "python",
   "pygments_lexer": "ipython3",
   "version": "3.7.3"
  },
  "orig_nbformat": 4,
  "vscode": {
   "interpreter": {
    "hash": "916dbcbb3f70747c44a77c7bcd40155683ae19c65e1c03b4aa3499c5328201f1"
   }
  }
 },
 "nbformat": 4,
 "nbformat_minor": 2
}
