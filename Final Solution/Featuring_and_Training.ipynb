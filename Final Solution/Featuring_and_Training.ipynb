{
 "cells": [
  {
   "cell_type": "code",
   "execution_count": 8,
   "metadata": {},
   "outputs": [
    {
     "name": "stdout",
     "output_type": "stream",
     "text": [
      "WARNING:tensorflow:From c:\\ProgramData\\anaconda3\\envs\\ML_Project\\Lib\\site-packages\\keras\\src\\losses.py:2976: The name tf.losses.sparse_softmax_cross_entropy is deprecated. Please use tf.compat.v1.losses.sparse_softmax_cross_entropy instead.\n",
      "\n"
     ]
    }
   ],
   "source": [
    "import pandas as pd\n",
    "import numpy as np\n",
    "import ast\n",
    "from matplotlib import pyplot as plt\n",
    "import seaborn as sns\n",
    "import lightgbm as lgb\n",
    "from sklearn.model_selection import train_test_split\n",
    "from sklearn.metrics import mean_squared_error, r2_score\n",
    "from sklearn.ensemble import RandomForestRegressor\n",
    "from sklearn.preprocessing import StandardScaler\n",
    "import matplotlib.pyplot as plt\n",
    "import re\n",
    "import xgboost as xgb\n",
    "import tensorflow as tf"
   ]
  },
  {
   "cell_type": "markdown",
   "metadata": {},
   "source": [
    "# 1. Looking to Initial DB"
   ]
  },
  {
   "cell_type": "markdown",
   "metadata": {},
   "source": [
    "<a id=\"section1\"></a>"
   ]
  },
  {
   "cell_type": "code",
   "execution_count": 2,
   "metadata": {},
   "outputs": [
    {
     "name": "stdout",
     "output_type": "stream",
     "text": [
      "Error: Error tokenizing data. C error: Expected 12 fields in line 3350, saw 13\n",
      "\n"
     ]
    }
   ],
   "source": [
    "try:\n",
    "    df = pd.read_csv(r'Initial DB\\books.csv')\n",
    "except pd.errors.ParserError as e:\n",
    "    print(f\"Error: {e}\")\n",
    "\n",
    "# Error on the data so we went to correct the data in the csv file\n"
   ]
  },
  {
   "cell_type": "markdown",
   "metadata": {},
   "source": [
    "- Error: Error tokenizing data. C error: Expected 12 fields in line 3350, saw 13\n",
    "- Error: Error tokenizing data. C error: Expected 12 fields in line 4704, saw 13\n",
    "- Error: Error tokenizing data. C error: Expected 12 fields in line 5879, saw 13\n",
    "- Error: Error tokenizing data. C error: Expected 12 fields in line 8981, saw 13\n",
    "\n",
    "Those error are all because some author fields contains \",\", so it kill the shape of the csv file.\n",
    "We solve that by hand and the new corrected file is located in \"Initial\\corrected_books.csv\"\n"
   ]
  },
  {
   "cell_type": "markdown",
   "metadata": {},
   "source": [
    "# 2. Exploring DataBases"
   ]
  },
  {
   "cell_type": "markdown",
   "metadata": {},
   "source": [
    "<h2>Exploration</h2>"
   ]
  },
  {
   "cell_type": "code",
   "execution_count": 3,
   "metadata": {},
   "outputs": [],
   "source": [
    "df = pd.read_csv(r'Initial DB\\corrected_books.csv')\n",
    "df_author = pd.read_csv(r'Feature DB\\author_info.csv')\n",
    "df_genre = pd.read_csv(r'Feature DB\\books_genre.csv')\n",
    "df_info = pd.read_csv(r'Feature DB\\books_info.csv')"
   ]
  },
  {
   "cell_type": "code",
   "execution_count": 4,
   "metadata": {},
   "outputs": [
    {
     "data": {
      "text/html": [
       "<div>\n",
       "<style scoped>\n",
       "    .dataframe tbody tr th:only-of-type {\n",
       "        vertical-align: middle;\n",
       "    }\n",
       "\n",
       "    .dataframe tbody tr th {\n",
       "        vertical-align: top;\n",
       "    }\n",
       "\n",
       "    .dataframe thead th {\n",
       "        text-align: right;\n",
       "    }\n",
       "</style>\n",
       "<table border=\"1\" class=\"dataframe\">\n",
       "  <thead>\n",
       "    <tr style=\"text-align: right;\">\n",
       "      <th></th>\n",
       "      <th>bookID</th>\n",
       "      <th>title</th>\n",
       "      <th>authors</th>\n",
       "      <th>average_rating</th>\n",
       "      <th>isbn</th>\n",
       "      <th>isbn13</th>\n",
       "      <th>language_code</th>\n",
       "      <th>num_pages</th>\n",
       "      <th>ratings_count</th>\n",
       "      <th>text_reviews_count</th>\n",
       "      <th>publication_date</th>\n",
       "      <th>publisher</th>\n",
       "    </tr>\n",
       "  </thead>\n",
       "  <tbody>\n",
       "    <tr>\n",
       "      <th>0</th>\n",
       "      <td>1</td>\n",
       "      <td>Harry Potter and the Half-Blood Prince (Harry ...</td>\n",
       "      <td>J.K. Rowling/Mary GrandPré</td>\n",
       "      <td>4.57</td>\n",
       "      <td>0439785960</td>\n",
       "      <td>9780439785969</td>\n",
       "      <td>eng</td>\n",
       "      <td>652</td>\n",
       "      <td>2095690</td>\n",
       "      <td>27591</td>\n",
       "      <td>9/16/2006</td>\n",
       "      <td>Scholastic Inc.</td>\n",
       "    </tr>\n",
       "    <tr>\n",
       "      <th>1</th>\n",
       "      <td>2</td>\n",
       "      <td>Harry Potter and the Order of the Phoenix (Har...</td>\n",
       "      <td>J.K. Rowling/Mary GrandPré</td>\n",
       "      <td>4.49</td>\n",
       "      <td>0439358078</td>\n",
       "      <td>9780439358071</td>\n",
       "      <td>eng</td>\n",
       "      <td>870</td>\n",
       "      <td>2153167</td>\n",
       "      <td>29221</td>\n",
       "      <td>9/1/2004</td>\n",
       "      <td>Scholastic Inc.</td>\n",
       "    </tr>\n",
       "    <tr>\n",
       "      <th>2</th>\n",
       "      <td>4</td>\n",
       "      <td>Harry Potter and the Chamber of Secrets (Harry...</td>\n",
       "      <td>J.K. Rowling</td>\n",
       "      <td>4.42</td>\n",
       "      <td>0439554896</td>\n",
       "      <td>9780439554893</td>\n",
       "      <td>eng</td>\n",
       "      <td>352</td>\n",
       "      <td>6333</td>\n",
       "      <td>244</td>\n",
       "      <td>11/1/2003</td>\n",
       "      <td>Scholastic</td>\n",
       "    </tr>\n",
       "    <tr>\n",
       "      <th>3</th>\n",
       "      <td>5</td>\n",
       "      <td>Harry Potter and the Prisoner of Azkaban (Harr...</td>\n",
       "      <td>J.K. Rowling/Mary GrandPré</td>\n",
       "      <td>4.56</td>\n",
       "      <td>043965548X</td>\n",
       "      <td>9780439655484</td>\n",
       "      <td>eng</td>\n",
       "      <td>435</td>\n",
       "      <td>2339585</td>\n",
       "      <td>36325</td>\n",
       "      <td>5/1/2004</td>\n",
       "      <td>Scholastic Inc.</td>\n",
       "    </tr>\n",
       "    <tr>\n",
       "      <th>4</th>\n",
       "      <td>8</td>\n",
       "      <td>Harry Potter Boxed Set  Books 1-5 (Harry Potte...</td>\n",
       "      <td>J.K. Rowling/Mary GrandPré</td>\n",
       "      <td>4.78</td>\n",
       "      <td>0439682584</td>\n",
       "      <td>9780439682589</td>\n",
       "      <td>eng</td>\n",
       "      <td>2690</td>\n",
       "      <td>41428</td>\n",
       "      <td>164</td>\n",
       "      <td>9/13/2004</td>\n",
       "      <td>Scholastic</td>\n",
       "    </tr>\n",
       "  </tbody>\n",
       "</table>\n",
       "</div>"
      ],
      "text/plain": [
       "   bookID                                              title  \\\n",
       "0       1  Harry Potter and the Half-Blood Prince (Harry ...   \n",
       "1       2  Harry Potter and the Order of the Phoenix (Har...   \n",
       "2       4  Harry Potter and the Chamber of Secrets (Harry...   \n",
       "3       5  Harry Potter and the Prisoner of Azkaban (Harr...   \n",
       "4       8  Harry Potter Boxed Set  Books 1-5 (Harry Potte...   \n",
       "\n",
       "                      authors  average_rating        isbn         isbn13  \\\n",
       "0  J.K. Rowling/Mary GrandPré            4.57  0439785960  9780439785969   \n",
       "1  J.K. Rowling/Mary GrandPré            4.49  0439358078  9780439358071   \n",
       "2                J.K. Rowling            4.42  0439554896  9780439554893   \n",
       "3  J.K. Rowling/Mary GrandPré            4.56  043965548X  9780439655484   \n",
       "4  J.K. Rowling/Mary GrandPré            4.78  0439682584  9780439682589   \n",
       "\n",
       "  language_code    num_pages  ratings_count  text_reviews_count  \\\n",
       "0           eng          652        2095690               27591   \n",
       "1           eng          870        2153167               29221   \n",
       "2           eng          352           6333                 244   \n",
       "3           eng          435        2339585               36325   \n",
       "4           eng         2690          41428                 164   \n",
       "\n",
       "  publication_date        publisher  \n",
       "0        9/16/2006  Scholastic Inc.  \n",
       "1         9/1/2004  Scholastic Inc.  \n",
       "2        11/1/2003       Scholastic  \n",
       "3         5/1/2004  Scholastic Inc.  \n",
       "4        9/13/2004       Scholastic  "
      ]
     },
     "execution_count": 4,
     "metadata": {},
     "output_type": "execute_result"
    }
   ],
   "source": [
    "\n",
    "df.head()"
   ]
  },
  {
   "cell_type": "code",
   "execution_count": 5,
   "metadata": {},
   "outputs": [
    {
     "data": {
      "text/html": [
       "<div>\n",
       "<style scoped>\n",
       "    .dataframe tbody tr th:only-of-type {\n",
       "        vertical-align: middle;\n",
       "    }\n",
       "\n",
       "    .dataframe tbody tr th {\n",
       "        vertical-align: top;\n",
       "    }\n",
       "\n",
       "    .dataframe thead th {\n",
       "        text-align: right;\n",
       "    }\n",
       "</style>\n",
       "<table border=\"1\" class=\"dataframe\">\n",
       "  <thead>\n",
       "    <tr style=\"text-align: right;\">\n",
       "      <th></th>\n",
       "      <th>average_rating</th>\n",
       "      <th>author_id</th>\n",
       "      <th>text_reviews_count</th>\n",
       "      <th>name</th>\n",
       "      <th>ratings_count</th>\n",
       "    </tr>\n",
       "  </thead>\n",
       "  <tbody>\n",
       "    <tr>\n",
       "      <th>0</th>\n",
       "      <td>3.98</td>\n",
       "      <td>604031</td>\n",
       "      <td>7</td>\n",
       "      <td>Ronald J. Fields</td>\n",
       "      <td>49</td>\n",
       "    </tr>\n",
       "    <tr>\n",
       "      <th>1</th>\n",
       "      <td>4.08</td>\n",
       "      <td>626222</td>\n",
       "      <td>28716</td>\n",
       "      <td>Anita Diamant</td>\n",
       "      <td>546796</td>\n",
       "    </tr>\n",
       "    <tr>\n",
       "      <th>2</th>\n",
       "      <td>3.92</td>\n",
       "      <td>10333</td>\n",
       "      <td>5075</td>\n",
       "      <td>Barbara Hambly</td>\n",
       "      <td>122118</td>\n",
       "    </tr>\n",
       "    <tr>\n",
       "      <th>3</th>\n",
       "      <td>3.68</td>\n",
       "      <td>9212</td>\n",
       "      <td>36262</td>\n",
       "      <td>Jennifer Weiner</td>\n",
       "      <td>888522</td>\n",
       "    </tr>\n",
       "    <tr>\n",
       "      <th>4</th>\n",
       "      <td>3.82</td>\n",
       "      <td>149918</td>\n",
       "      <td>96</td>\n",
       "      <td>Nigel Pennick</td>\n",
       "      <td>1740</td>\n",
       "    </tr>\n",
       "  </tbody>\n",
       "</table>\n",
       "</div>"
      ],
      "text/plain": [
       "   average_rating  author_id  text_reviews_count              name  \\\n",
       "0            3.98     604031                   7  Ronald J. Fields   \n",
       "1            4.08     626222               28716     Anita Diamant   \n",
       "2            3.92      10333                5075    Barbara Hambly   \n",
       "3            3.68       9212               36262   Jennifer Weiner   \n",
       "4            3.82     149918                  96     Nigel Pennick   \n",
       "\n",
       "   ratings_count  \n",
       "0             49  \n",
       "1         546796  \n",
       "2         122118  \n",
       "3         888522  \n",
       "4           1740  "
      ]
     },
     "execution_count": 5,
     "metadata": {},
     "output_type": "execute_result"
    }
   ],
   "source": [
    "df_author.head()"
   ]
  },
  {
   "cell_type": "code",
   "execution_count": 6,
   "metadata": {},
   "outputs": [
    {
     "data": {
      "text/plain": [
       "bookID                0\n",
       "title                 0\n",
       "authors               0\n",
       "average_rating        0\n",
       "isbn                  0\n",
       "isbn13                0\n",
       "language_code         0\n",
       "  num_pages           0\n",
       "ratings_count         0\n",
       "text_reviews_count    0\n",
       "publication_date      0\n",
       "publisher             0\n",
       "dtype: int64"
      ]
     },
     "execution_count": 6,
     "metadata": {},
     "output_type": "execute_result"
    }
   ],
   "source": [
    "df.isna().sum()"
   ]
  },
  {
   "cell_type": "code",
   "execution_count": 7,
   "metadata": {},
   "outputs": [],
   "source": [
    "df=df.rename(columns={'  num_pages': 'num_pages'})"
   ]
  },
  {
   "cell_type": "code",
   "execution_count": 8,
   "metadata": {},
   "outputs": [],
   "source": [
    "df.to_csv(r\"Feature DB\\improved_dataset.csv\", index=False)"
   ]
  },
  {
   "cell_type": "code",
   "execution_count": 9,
   "metadata": {},
   "outputs": [
    {
     "data": {
      "text/html": [
       "<div>\n",
       "<style scoped>\n",
       "    .dataframe tbody tr th:only-of-type {\n",
       "        vertical-align: middle;\n",
       "    }\n",
       "\n",
       "    .dataframe tbody tr th {\n",
       "        vertical-align: top;\n",
       "    }\n",
       "\n",
       "    .dataframe thead th {\n",
       "        text-align: right;\n",
       "    }\n",
       "</style>\n",
       "<table border=\"1\" class=\"dataframe\">\n",
       "  <thead>\n",
       "    <tr style=\"text-align: right;\">\n",
       "      <th></th>\n",
       "      <th>bookID</th>\n",
       "      <th>average_rating</th>\n",
       "      <th>isbn13</th>\n",
       "      <th>num_pages</th>\n",
       "      <th>ratings_count</th>\n",
       "      <th>text_reviews_count</th>\n",
       "    </tr>\n",
       "  </thead>\n",
       "  <tbody>\n",
       "    <tr>\n",
       "      <th>count</th>\n",
       "      <td>11127.000000</td>\n",
       "      <td>11127.000000</td>\n",
       "      <td>1.112700e+04</td>\n",
       "      <td>11127.000000</td>\n",
       "      <td>1.112700e+04</td>\n",
       "      <td>11127.000000</td>\n",
       "    </tr>\n",
       "    <tr>\n",
       "      <th>mean</th>\n",
       "      <td>21310.938887</td>\n",
       "      <td>3.933631</td>\n",
       "      <td>9.759888e+12</td>\n",
       "      <td>336.376921</td>\n",
       "      <td>1.793641e+04</td>\n",
       "      <td>541.854498</td>\n",
       "    </tr>\n",
       "    <tr>\n",
       "      <th>std</th>\n",
       "      <td>13093.358023</td>\n",
       "      <td>0.352445</td>\n",
       "      <td>4.428964e+11</td>\n",
       "      <td>241.127305</td>\n",
       "      <td>1.124794e+05</td>\n",
       "      <td>2576.176608</td>\n",
       "    </tr>\n",
       "    <tr>\n",
       "      <th>min</th>\n",
       "      <td>1.000000</td>\n",
       "      <td>0.000000</td>\n",
       "      <td>8.987060e+09</td>\n",
       "      <td>0.000000</td>\n",
       "      <td>0.000000e+00</td>\n",
       "      <td>0.000000</td>\n",
       "    </tr>\n",
       "    <tr>\n",
       "      <th>25%</th>\n",
       "      <td>10287.000000</td>\n",
       "      <td>3.770000</td>\n",
       "      <td>9.780345e+12</td>\n",
       "      <td>192.000000</td>\n",
       "      <td>1.040000e+02</td>\n",
       "      <td>9.000000</td>\n",
       "    </tr>\n",
       "    <tr>\n",
       "      <th>50%</th>\n",
       "      <td>20287.000000</td>\n",
       "      <td>3.960000</td>\n",
       "      <td>9.780586e+12</td>\n",
       "      <td>299.000000</td>\n",
       "      <td>7.450000e+02</td>\n",
       "      <td>46.000000</td>\n",
       "    </tr>\n",
       "    <tr>\n",
       "      <th>75%</th>\n",
       "      <td>32104.500000</td>\n",
       "      <td>4.135000</td>\n",
       "      <td>9.780873e+12</td>\n",
       "      <td>416.000000</td>\n",
       "      <td>4.993500e+03</td>\n",
       "      <td>237.500000</td>\n",
       "    </tr>\n",
       "    <tr>\n",
       "      <th>max</th>\n",
       "      <td>45641.000000</td>\n",
       "      <td>5.000000</td>\n",
       "      <td>9.790008e+12</td>\n",
       "      <td>6576.000000</td>\n",
       "      <td>4.597666e+06</td>\n",
       "      <td>94265.000000</td>\n",
       "    </tr>\n",
       "  </tbody>\n",
       "</table>\n",
       "</div>"
      ],
      "text/plain": [
       "             bookID  average_rating        isbn13     num_pages  \\\n",
       "count  11127.000000    11127.000000  1.112700e+04  11127.000000   \n",
       "mean   21310.938887        3.933631  9.759888e+12    336.376921   \n",
       "std    13093.358023        0.352445  4.428964e+11    241.127305   \n",
       "min        1.000000        0.000000  8.987060e+09      0.000000   \n",
       "25%    10287.000000        3.770000  9.780345e+12    192.000000   \n",
       "50%    20287.000000        3.960000  9.780586e+12    299.000000   \n",
       "75%    32104.500000        4.135000  9.780873e+12    416.000000   \n",
       "max    45641.000000        5.000000  9.790008e+12   6576.000000   \n",
       "\n",
       "       ratings_count  text_reviews_count  \n",
       "count   1.112700e+04        11127.000000  \n",
       "mean    1.793641e+04          541.854498  \n",
       "std     1.124794e+05         2576.176608  \n",
       "min     0.000000e+00            0.000000  \n",
       "25%     1.040000e+02            9.000000  \n",
       "50%     7.450000e+02           46.000000  \n",
       "75%     4.993500e+03          237.500000  \n",
       "max     4.597666e+06        94265.000000  "
      ]
     },
     "execution_count": 9,
     "metadata": {},
     "output_type": "execute_result"
    }
   ],
   "source": [
    "df.describe()"
   ]
  },
  {
   "cell_type": "code",
   "execution_count": 10,
   "metadata": {},
   "outputs": [
    {
     "data": {
      "text/plain": [
       "<seaborn.axisgrid.FacetGrid at 0x1e6cb510f50>"
      ]
     },
     "execution_count": 10,
     "metadata": {},
     "output_type": "execute_result"
    },
    {
     "data": {
      "image/png": "[encoded data removed]",
      "text/plain": [
       "<Figure size 500x500 with 1 Axes>"
      ]
     },
     "metadata": {},
     "output_type": "display_data"
    }
   ],
   "source": [
    "sns.displot(df.average_rating)"
   ]
  },
  {
   "cell_type": "code",
   "execution_count": 11,
   "metadata": {},
   "outputs": [
    {
     "data": {
      "text/html": [
       "<div>\n",
       "<style scoped>\n",
       "    .dataframe tbody tr th:only-of-type {\n",
       "        vertical-align: middle;\n",
       "    }\n",
       "\n",
       "    .dataframe tbody tr th {\n",
       "        vertical-align: top;\n",
       "    }\n",
       "\n",
       "    .dataframe thead th {\n",
       "        text-align: right;\n",
       "    }\n",
       "</style>\n",
       "<table border=\"1\" class=\"dataframe\">\n",
       "  <thead>\n",
       "    <tr style=\"text-align: right;\">\n",
       "      <th></th>\n",
       "      <th>average_rating</th>\n",
       "      <th>author_id</th>\n",
       "      <th>text_reviews_count</th>\n",
       "      <th>name</th>\n",
       "      <th>ratings_count</th>\n",
       "    </tr>\n",
       "  </thead>\n",
       "  <tbody>\n",
       "    <tr>\n",
       "      <th>0</th>\n",
       "      <td>3.98</td>\n",
       "      <td>604031</td>\n",
       "      <td>7</td>\n",
       "      <td>Ronald J. Fields</td>\n",
       "      <td>49</td>\n",
       "    </tr>\n",
       "    <tr>\n",
       "      <th>1</th>\n",
       "      <td>4.08</td>\n",
       "      <td>626222</td>\n",
       "      <td>28716</td>\n",
       "      <td>Anita Diamant</td>\n",
       "      <td>546796</td>\n",
       "    </tr>\n",
       "    <tr>\n",
       "      <th>2</th>\n",
       "      <td>3.92</td>\n",
       "      <td>10333</td>\n",
       "      <td>5075</td>\n",
       "      <td>Barbara Hambly</td>\n",
       "      <td>122118</td>\n",
       "    </tr>\n",
       "    <tr>\n",
       "      <th>3</th>\n",
       "      <td>3.68</td>\n",
       "      <td>9212</td>\n",
       "      <td>36262</td>\n",
       "      <td>Jennifer Weiner</td>\n",
       "      <td>888522</td>\n",
       "    </tr>\n",
       "    <tr>\n",
       "      <th>4</th>\n",
       "      <td>3.82</td>\n",
       "      <td>149918</td>\n",
       "      <td>96</td>\n",
       "      <td>Nigel Pennick</td>\n",
       "      <td>1740</td>\n",
       "    </tr>\n",
       "  </tbody>\n",
       "</table>\n",
       "</div>"
      ],
      "text/plain": [
       "   average_rating  author_id  text_reviews_count              name  \\\n",
       "0            3.98     604031                   7  Ronald J. Fields   \n",
       "1            4.08     626222               28716     Anita Diamant   \n",
       "2            3.92      10333                5075    Barbara Hambly   \n",
       "3            3.68       9212               36262   Jennifer Weiner   \n",
       "4            3.82     149918                  96     Nigel Pennick   \n",
       "\n",
       "   ratings_count  \n",
       "0             49  \n",
       "1         546796  \n",
       "2         122118  \n",
       "3         888522  \n",
       "4           1740  "
      ]
     },
     "execution_count": 11,
     "metadata": {},
     "output_type": "execute_result"
    }
   ],
   "source": [
    "df_author = df_author.dropna()\n",
    "df_author.head()"
   ]
  },
  {
   "cell_type": "code",
   "execution_count": 12,
   "metadata": {},
   "outputs": [
    {
     "data": {
      "text/html": [
       "<div>\n",
       "<style scoped>\n",
       "    .dataframe tbody tr th:only-of-type {\n",
       "        vertical-align: middle;\n",
       "    }\n",
       "\n",
       "    .dataframe tbody tr th {\n",
       "        vertical-align: top;\n",
       "    }\n",
       "\n",
       "    .dataframe thead th {\n",
       "        text-align: right;\n",
       "    }\n",
       "</style>\n",
       "<table border=\"1\" class=\"dataframe\">\n",
       "  <thead>\n",
       "    <tr style=\"text-align: right;\">\n",
       "      <th></th>\n",
       "      <th>book_id</th>\n",
       "      <th>country_code</th>\n",
       "      <th>authors</th>\n",
       "      <th>isbn13</th>\n",
       "    </tr>\n",
       "  </thead>\n",
       "  <tbody>\n",
       "    <tr>\n",
       "      <th>0</th>\n",
       "      <td>38568</td>\n",
       "      <td>US</td>\n",
       "      <td>[{'author_id': '17059', 'role': ''}]</td>\n",
       "      <td>9780060773755</td>\n",
       "    </tr>\n",
       "    <tr>\n",
       "      <th>1</th>\n",
       "      <td>38562</td>\n",
       "      <td>US</td>\n",
       "      <td>[{'author_id': '17059', 'role': ''}]</td>\n",
       "      <td>9780060774073</td>\n",
       "    </tr>\n",
       "    <tr>\n",
       "      <th>2</th>\n",
       "      <td>38564</td>\n",
       "      <td>US</td>\n",
       "      <td>[{'author_id': '21701', 'role': ''}]</td>\n",
       "      <td>9780425209424</td>\n",
       "    </tr>\n",
       "    <tr>\n",
       "      <th>3</th>\n",
       "      <td>39307</td>\n",
       "      <td>US</td>\n",
       "      <td>[{'author_id': '1356336', 'role': ''}]</td>\n",
       "      <td>9780312940027</td>\n",
       "    </tr>\n",
       "    <tr>\n",
       "      <th>4</th>\n",
       "      <td>23717</td>\n",
       "      <td>US</td>\n",
       "      <td>[{'author_id': '12948', 'role': ''}]</td>\n",
       "      <td>9781569312063</td>\n",
       "    </tr>\n",
       "  </tbody>\n",
       "</table>\n",
       "</div>"
      ],
      "text/plain": [
       "   book_id country_code                                 authors         isbn13\n",
       "0    38568           US    [{'author_id': '17059', 'role': ''}]  9780060773755\n",
       "1    38562           US    [{'author_id': '17059', 'role': ''}]  9780060774073\n",
       "2    38564           US    [{'author_id': '21701', 'role': ''}]  9780425209424\n",
       "3    39307           US  [{'author_id': '1356336', 'role': ''}]  9780312940027\n",
       "4    23717           US    [{'author_id': '12948', 'role': ''}]  9781569312063"
      ]
     },
     "execution_count": 12,
     "metadata": {},
     "output_type": "execute_result"
    }
   ],
   "source": [
    "df_info = df_info.dropna()\n",
    "df_info.head()"
   ]
  },
  {
   "cell_type": "code",
   "execution_count": 13,
   "metadata": {},
   "outputs": [
    {
     "data": {
      "text/plain": [
       "country_code\n",
       "US    9289\n",
       "Name: count, dtype: int64"
      ]
     },
     "execution_count": 13,
     "metadata": {},
     "output_type": "execute_result"
    }
   ],
   "source": [
    "df_info['country_code'].value_counts()"
   ]
  },
  {
   "cell_type": "markdown",
   "metadata": {},
   "source": [
    "US is the only value so we can drop this column because it is useless"
   ]
  },
  {
   "cell_type": "code",
   "execution_count": 14,
   "metadata": {},
   "outputs": [],
   "source": [
    "df_info = df_info.drop('country_code', axis=1)"
   ]
  },
  {
   "cell_type": "code",
   "execution_count": 15,
   "metadata": {},
   "outputs": [
    {
     "data": {
      "text/html": [
       "<div>\n",
       "<style scoped>\n",
       "    .dataframe tbody tr th:only-of-type {\n",
       "        vertical-align: middle;\n",
       "    }\n",
       "\n",
       "    .dataframe tbody tr th {\n",
       "        vertical-align: top;\n",
       "    }\n",
       "\n",
       "    .dataframe thead th {\n",
       "        text-align: right;\n",
       "    }\n",
       "</style>\n",
       "<table border=\"1\" class=\"dataframe\">\n",
       "  <thead>\n",
       "    <tr style=\"text-align: right;\">\n",
       "      <th></th>\n",
       "      <th>book_id</th>\n",
       "      <th>genres</th>\n",
       "    </tr>\n",
       "  </thead>\n",
       "  <tbody>\n",
       "    <tr>\n",
       "      <th>0</th>\n",
       "      <td>38568</td>\n",
       "      <td>{'fantasy, paranormal': 1907, 'romance': 1598,...</td>\n",
       "    </tr>\n",
       "    <tr>\n",
       "      <th>1</th>\n",
       "      <td>38562</td>\n",
       "      <td>{'fantasy, paranormal': 1002, 'romance': 896, ...</td>\n",
       "    </tr>\n",
       "    <tr>\n",
       "      <th>2</th>\n",
       "      <td>38564</td>\n",
       "      <td>{'young-adult': 315, 'fantasy, paranormal': 27...</td>\n",
       "    </tr>\n",
       "    <tr>\n",
       "      <th>3</th>\n",
       "      <td>39307</td>\n",
       "      <td>{'fantasy, paranormal': 128, 'romance': 40, 'f...</td>\n",
       "    </tr>\n",
       "    <tr>\n",
       "      <th>4</th>\n",
       "      <td>23717</td>\n",
       "      <td>{'fantasy, paranormal': 3, 'fiction': 2, 'comi...</td>\n",
       "    </tr>\n",
       "  </tbody>\n",
       "</table>\n",
       "</div>"
      ],
      "text/plain": [
       "   book_id                                             genres\n",
       "0    38568  {'fantasy, paranormal': 1907, 'romance': 1598,...\n",
       "1    38562  {'fantasy, paranormal': 1002, 'romance': 896, ...\n",
       "2    38564  {'young-adult': 315, 'fantasy, paranormal': 27...\n",
       "3    39307  {'fantasy, paranormal': 128, 'romance': 40, 'f...\n",
       "4    23717  {'fantasy, paranormal': 3, 'fiction': 2, 'comi..."
      ]
     },
     "execution_count": 15,
     "metadata": {},
     "output_type": "execute_result"
    }
   ],
   "source": [
    "df_genre = df_genre.dropna()\n",
    "\n",
    "df_genre.head()"
   ]
  },
  {
   "cell_type": "markdown",
   "metadata": {},
   "source": [
    "<H1>Join the datasets</h1>"
   ]
  },
  {
   "cell_type": "markdown",
   "metadata": {},
   "source": [
    "Verify unique value on the join columns"
   ]
  },
  {
   "cell_type": "code",
   "execution_count": 16,
   "metadata": {},
   "outputs": [],
   "source": [
    "values_to_keep = df['isbn13'].unique()\n",
    "\n",
    "#Filter df_info to keep only rows where column1 values are in values_to_keep\n",
    "df_info = df_info[df_info['isbn13'].isin(values_to_keep)]"
   ]
  },
  {
   "cell_type": "code",
   "execution_count": 17,
   "metadata": {},
   "outputs": [],
   "source": [
    "values_to_keep = df_info['book_id'].unique()\n",
    "\n",
    "# Filter df_info to keep only rows where column1 values are in values_to_keep\n",
    "df_genre = df_genre[df_genre['book_id'].isin(values_to_keep)]"
   ]
  },
  {
   "cell_type": "markdown",
   "metadata": {},
   "source": [
    "<H2>join books.csv and books_info.csv in final_df</h2>"
   ]
  },
  {
   "cell_type": "code",
   "execution_count": 18,
   "metadata": {},
   "outputs": [
    {
     "data": {
      "text/html": [
       "<div>\n",
       "<style scoped>\n",
       "    .dataframe tbody tr th:only-of-type {\n",
       "        vertical-align: middle;\n",
       "    }\n",
       "\n",
       "    .dataframe tbody tr th {\n",
       "        vertical-align: top;\n",
       "    }\n",
       "\n",
       "    .dataframe thead th {\n",
       "        text-align: right;\n",
       "    }\n",
       "</style>\n",
       "<table border=\"1\" class=\"dataframe\">\n",
       "  <thead>\n",
       "    <tr style=\"text-align: right;\">\n",
       "      <th></th>\n",
       "      <th>bookID</th>\n",
       "      <th>title</th>\n",
       "      <th>authors_x</th>\n",
       "      <th>average_rating</th>\n",
       "      <th>isbn</th>\n",
       "      <th>isbn13</th>\n",
       "      <th>language_code</th>\n",
       "      <th>num_pages</th>\n",
       "      <th>ratings_count</th>\n",
       "      <th>text_reviews_count</th>\n",
       "      <th>publication_date</th>\n",
       "      <th>publisher</th>\n",
       "      <th>book_id</th>\n",
       "      <th>authors_y</th>\n",
       "    </tr>\n",
       "  </thead>\n",
       "  <tbody>\n",
       "    <tr>\n",
       "      <th>0</th>\n",
       "      <td>1</td>\n",
       "      <td>Harry Potter and the Half-Blood Prince (Harry ...</td>\n",
       "      <td>J.K. Rowling/Mary GrandPré</td>\n",
       "      <td>4.57</td>\n",
       "      <td>0439785960</td>\n",
       "      <td>9780439785969</td>\n",
       "      <td>eng</td>\n",
       "      <td>652</td>\n",
       "      <td>2095690</td>\n",
       "      <td>27591</td>\n",
       "      <td>9/16/2006</td>\n",
       "      <td>Scholastic Inc.</td>\n",
       "      <td>1</td>\n",
       "      <td>[{'author_id': '1077326', 'role': ''}, {'autho...</td>\n",
       "    </tr>\n",
       "    <tr>\n",
       "      <th>1</th>\n",
       "      <td>2</td>\n",
       "      <td>Harry Potter and the Order of the Phoenix (Har...</td>\n",
       "      <td>J.K. Rowling/Mary GrandPré</td>\n",
       "      <td>4.49</td>\n",
       "      <td>0439358078</td>\n",
       "      <td>9780439358071</td>\n",
       "      <td>eng</td>\n",
       "      <td>870</td>\n",
       "      <td>2153167</td>\n",
       "      <td>29221</td>\n",
       "      <td>9/1/2004</td>\n",
       "      <td>Scholastic Inc.</td>\n",
       "      <td>2</td>\n",
       "      <td>[{'author_id': '1077326', 'role': ''}, {'autho...</td>\n",
       "    </tr>\n",
       "    <tr>\n",
       "      <th>2</th>\n",
       "      <td>4</td>\n",
       "      <td>Harry Potter and the Chamber of Secrets (Harry...</td>\n",
       "      <td>J.K. Rowling</td>\n",
       "      <td>4.42</td>\n",
       "      <td>0439554896</td>\n",
       "      <td>9780439554893</td>\n",
       "      <td>eng</td>\n",
       "      <td>352</td>\n",
       "      <td>6333</td>\n",
       "      <td>244</td>\n",
       "      <td>11/1/2003</td>\n",
       "      <td>Scholastic</td>\n",
       "      <td>4</td>\n",
       "      <td>[{'author_id': '1077326', 'role': ''}]</td>\n",
       "    </tr>\n",
       "    <tr>\n",
       "      <th>3</th>\n",
       "      <td>5</td>\n",
       "      <td>Harry Potter and the Prisoner of Azkaban (Harr...</td>\n",
       "      <td>J.K. Rowling/Mary GrandPré</td>\n",
       "      <td>4.56</td>\n",
       "      <td>043965548X</td>\n",
       "      <td>9780439655484</td>\n",
       "      <td>eng</td>\n",
       "      <td>435</td>\n",
       "      <td>2339585</td>\n",
       "      <td>36325</td>\n",
       "      <td>5/1/2004</td>\n",
       "      <td>Scholastic Inc.</td>\n",
       "      <td>5</td>\n",
       "      <td>[{'author_id': '1077326', 'role': ''}, {'autho...</td>\n",
       "    </tr>\n",
       "    <tr>\n",
       "      <th>4</th>\n",
       "      <td>8</td>\n",
       "      <td>Harry Potter Boxed Set  Books 1-5 (Harry Potte...</td>\n",
       "      <td>J.K. Rowling/Mary GrandPré</td>\n",
       "      <td>4.78</td>\n",
       "      <td>0439682584</td>\n",
       "      <td>9780439682589</td>\n",
       "      <td>eng</td>\n",
       "      <td>2690</td>\n",
       "      <td>41428</td>\n",
       "      <td>164</td>\n",
       "      <td>9/13/2004</td>\n",
       "      <td>Scholastic</td>\n",
       "      <td>8</td>\n",
       "      <td>[{'author_id': '1077326', 'role': ''}, {'autho...</td>\n",
       "    </tr>\n",
       "  </tbody>\n",
       "</table>\n",
       "</div>"
      ],
      "text/plain": [
       "   bookID                                              title  \\\n",
       "0       1  Harry Potter and the Half-Blood Prince (Harry ...   \n",
       "1       2  Harry Potter and the Order of the Phoenix (Har...   \n",
       "2       4  Harry Potter and the Chamber of Secrets (Harry...   \n",
       "3       5  Harry Potter and the Prisoner of Azkaban (Harr...   \n",
       "4       8  Harry Potter Boxed Set  Books 1-5 (Harry Potte...   \n",
       "\n",
       "                    authors_x  average_rating        isbn         isbn13  \\\n",
       "0  J.K. Rowling/Mary GrandPré            4.57  0439785960  9780439785969   \n",
       "1  J.K. Rowling/Mary GrandPré            4.49  0439358078  9780439358071   \n",
       "2                J.K. Rowling            4.42  0439554896  9780439554893   \n",
       "3  J.K. Rowling/Mary GrandPré            4.56  043965548X  9780439655484   \n",
       "4  J.K. Rowling/Mary GrandPré            4.78  0439682584  9780439682589   \n",
       "\n",
       "  language_code  num_pages  ratings_count  text_reviews_count  \\\n",
       "0           eng        652        2095690               27591   \n",
       "1           eng        870        2153167               29221   \n",
       "2           eng        352           6333                 244   \n",
       "3           eng        435        2339585               36325   \n",
       "4           eng       2690          41428                 164   \n",
       "\n",
       "  publication_date        publisher  book_id  \\\n",
       "0        9/16/2006  Scholastic Inc.        1   \n",
       "1         9/1/2004  Scholastic Inc.        2   \n",
       "2        11/1/2003       Scholastic        4   \n",
       "3         5/1/2004  Scholastic Inc.        5   \n",
       "4        9/13/2004       Scholastic        8   \n",
       "\n",
       "                                           authors_y  \n",
       "0  [{'author_id': '1077326', 'role': ''}, {'autho...  \n",
       "1  [{'author_id': '1077326', 'role': ''}, {'autho...  \n",
       "2             [{'author_id': '1077326', 'role': ''}]  \n",
       "3  [{'author_id': '1077326', 'role': ''}, {'autho...  \n",
       "4  [{'author_id': '1077326', 'role': ''}, {'autho...  "
      ]
     },
     "execution_count": 18,
     "metadata": {},
     "output_type": "execute_result"
    }
   ],
   "source": [
    "df['isbn13'] = df['isbn13'].astype(str)\n",
    "df_info['isbn13'] = df_info['isbn13'].astype(str)\n",
    "\n",
    "final_df = pd.merge(df, df_info, on = 'isbn13', how = 'inner')\n",
    "final_df.head()"
   ]
  },
  {
   "cell_type": "markdown",
   "metadata": {},
   "source": [
    "<H2>join final_df and books_genre.csv in final_df</h2>"
   ]
  },
  {
   "cell_type": "code",
   "execution_count": 19,
   "metadata": {},
   "outputs": [
    {
     "data": {
      "text/html": [
       "<div>\n",
       "<style scoped>\n",
       "    .dataframe tbody tr th:only-of-type {\n",
       "        vertical-align: middle;\n",
       "    }\n",
       "\n",
       "    .dataframe tbody tr th {\n",
       "        vertical-align: top;\n",
       "    }\n",
       "\n",
       "    .dataframe thead th {\n",
       "        text-align: right;\n",
       "    }\n",
       "</style>\n",
       "<table border=\"1\" class=\"dataframe\">\n",
       "  <thead>\n",
       "    <tr style=\"text-align: right;\">\n",
       "      <th></th>\n",
       "      <th>bookID</th>\n",
       "      <th>title</th>\n",
       "      <th>authors_x</th>\n",
       "      <th>average_rating</th>\n",
       "      <th>isbn</th>\n",
       "      <th>isbn13</th>\n",
       "      <th>language_code</th>\n",
       "      <th>num_pages</th>\n",
       "      <th>ratings_count</th>\n",
       "      <th>text_reviews_count</th>\n",
       "      <th>publication_date</th>\n",
       "      <th>publisher</th>\n",
       "      <th>book_id</th>\n",
       "      <th>authors_y</th>\n",
       "      <th>genres</th>\n",
       "    </tr>\n",
       "  </thead>\n",
       "  <tbody>\n",
       "    <tr>\n",
       "      <th>0</th>\n",
       "      <td>1</td>\n",
       "      <td>Harry Potter and the Half-Blood Prince (Harry ...</td>\n",
       "      <td>J.K. Rowling/Mary GrandPré</td>\n",
       "      <td>4.57</td>\n",
       "      <td>0439785960</td>\n",
       "      <td>9780439785969</td>\n",
       "      <td>eng</td>\n",
       "      <td>652</td>\n",
       "      <td>2095690</td>\n",
       "      <td>27591</td>\n",
       "      <td>9/16/2006</td>\n",
       "      <td>Scholastic Inc.</td>\n",
       "      <td>1</td>\n",
       "      <td>[{'author_id': '1077326', 'role': ''}, {'autho...</td>\n",
       "      <td>[fantasy, paranormal, young-adult, fiction, ch...</td>\n",
       "    </tr>\n",
       "    <tr>\n",
       "      <th>1</th>\n",
       "      <td>2</td>\n",
       "      <td>Harry Potter and the Order of the Phoenix (Har...</td>\n",
       "      <td>J.K. Rowling/Mary GrandPré</td>\n",
       "      <td>4.49</td>\n",
       "      <td>0439358078</td>\n",
       "      <td>9780439358071</td>\n",
       "      <td>eng</td>\n",
       "      <td>870</td>\n",
       "      <td>2153167</td>\n",
       "      <td>29221</td>\n",
       "      <td>9/1/2004</td>\n",
       "      <td>Scholastic Inc.</td>\n",
       "      <td>2</td>\n",
       "      <td>[{'author_id': '1077326', 'role': ''}, {'autho...</td>\n",
       "      <td>[fantasy, paranormal, children, fiction, young...</td>\n",
       "    </tr>\n",
       "    <tr>\n",
       "      <th>2</th>\n",
       "      <td>4</td>\n",
       "      <td>Harry Potter and the Chamber of Secrets (Harry...</td>\n",
       "      <td>J.K. Rowling</td>\n",
       "      <td>4.42</td>\n",
       "      <td>0439554896</td>\n",
       "      <td>9780439554893</td>\n",
       "      <td>eng</td>\n",
       "      <td>352</td>\n",
       "      <td>6333</td>\n",
       "      <td>244</td>\n",
       "      <td>11/1/2003</td>\n",
       "      <td>Scholastic</td>\n",
       "      <td>4</td>\n",
       "      <td>[{'author_id': '1077326', 'role': ''}]</td>\n",
       "      <td>[fantasy, paranormal, young-adult, fiction, ch...</td>\n",
       "    </tr>\n",
       "    <tr>\n",
       "      <th>3</th>\n",
       "      <td>5</td>\n",
       "      <td>Harry Potter and the Prisoner of Azkaban (Harr...</td>\n",
       "      <td>J.K. Rowling/Mary GrandPré</td>\n",
       "      <td>4.56</td>\n",
       "      <td>043965548X</td>\n",
       "      <td>9780439655484</td>\n",
       "      <td>eng</td>\n",
       "      <td>435</td>\n",
       "      <td>2339585</td>\n",
       "      <td>36325</td>\n",
       "      <td>5/1/2004</td>\n",
       "      <td>Scholastic Inc.</td>\n",
       "      <td>5</td>\n",
       "      <td>[{'author_id': '1077326', 'role': ''}, {'autho...</td>\n",
       "      <td>[fiction, children, fantasy, paranormal, young...</td>\n",
       "    </tr>\n",
       "    <tr>\n",
       "      <th>4</th>\n",
       "      <td>8</td>\n",
       "      <td>Harry Potter Boxed Set  Books 1-5 (Harry Potte...</td>\n",
       "      <td>J.K. Rowling/Mary GrandPré</td>\n",
       "      <td>4.78</td>\n",
       "      <td>0439682584</td>\n",
       "      <td>9780439682589</td>\n",
       "      <td>eng</td>\n",
       "      <td>2690</td>\n",
       "      <td>41428</td>\n",
       "      <td>164</td>\n",
       "      <td>9/13/2004</td>\n",
       "      <td>Scholastic</td>\n",
       "      <td>8</td>\n",
       "      <td>[{'author_id': '1077326', 'role': ''}, {'autho...</td>\n",
       "      <td>[fantasy, paranormal, young-adult, fiction, ch...</td>\n",
       "    </tr>\n",
       "  </tbody>\n",
       "</table>\n",
       "</div>"
      ],
      "text/plain": [
       "   bookID                                              title  \\\n",
       "0       1  Harry Potter and the Half-Blood Prince (Harry ...   \n",
       "1       2  Harry Potter and the Order of the Phoenix (Har...   \n",
       "2       4  Harry Potter and the Chamber of Secrets (Harry...   \n",
       "3       5  Harry Potter and the Prisoner of Azkaban (Harr...   \n",
       "4       8  Harry Potter Boxed Set  Books 1-5 (Harry Potte...   \n",
       "\n",
       "                    authors_x  average_rating        isbn         isbn13  \\\n",
       "0  J.K. Rowling/Mary GrandPré            4.57  0439785960  9780439785969   \n",
       "1  J.K. Rowling/Mary GrandPré            4.49  0439358078  9780439358071   \n",
       "2                J.K. Rowling            4.42  0439554896  9780439554893   \n",
       "3  J.K. Rowling/Mary GrandPré            4.56  043965548X  9780439655484   \n",
       "4  J.K. Rowling/Mary GrandPré            4.78  0439682584  9780439682589   \n",
       "\n",
       "  language_code  num_pages  ratings_count  text_reviews_count  \\\n",
       "0           eng        652        2095690               27591   \n",
       "1           eng        870        2153167               29221   \n",
       "2           eng        352           6333                 244   \n",
       "3           eng        435        2339585               36325   \n",
       "4           eng       2690          41428                 164   \n",
       "\n",
       "  publication_date        publisher  book_id  \\\n",
       "0        9/16/2006  Scholastic Inc.        1   \n",
       "1         9/1/2004  Scholastic Inc.        2   \n",
       "2        11/1/2003       Scholastic        4   \n",
       "3         5/1/2004  Scholastic Inc.        5   \n",
       "4        9/13/2004       Scholastic        8   \n",
       "\n",
       "                                           authors_y  \\\n",
       "0  [{'author_id': '1077326', 'role': ''}, {'autho...   \n",
       "1  [{'author_id': '1077326', 'role': ''}, {'autho...   \n",
       "2             [{'author_id': '1077326', 'role': ''}]   \n",
       "3  [{'author_id': '1077326', 'role': ''}, {'autho...   \n",
       "4  [{'author_id': '1077326', 'role': ''}, {'autho...   \n",
       "\n",
       "                                              genres  \n",
       "0  [fantasy, paranormal, young-adult, fiction, ch...  \n",
       "1  [fantasy, paranormal, children, fiction, young...  \n",
       "2  [fantasy, paranormal, young-adult, fiction, ch...  \n",
       "3  [fiction, children, fantasy, paranormal, young...  \n",
       "4  [fantasy, paranormal, young-adult, fiction, ch...  "
      ]
     },
     "execution_count": 19,
     "metadata": {},
     "output_type": "execute_result"
    }
   ],
   "source": [
    "final_df = pd.merge(final_df, df_genre, on = 'book_id', how = 'inner')\n",
    "def extract_keys(cell):\n",
    "    try:\n",
    "        # Convert the string representation of a dictionary to a dictionary object\n",
    "        dictionary = ast.literal_eval(cell)\n",
    "        # Return the keys if the input is a dictionary\n",
    "        return list(dictionary.keys())\n",
    "    except (ValueError, SyntaxError):\n",
    "        # Return an empty list if the input is not a valid dictionary\n",
    "        return []\n",
    "\n",
    "# Apply the function to each cell of the DataFrame\n",
    "final_df['genres'] = final_df['genres'].apply(extract_keys)\n",
    "final_df.head()"
   ]
  },
  {
   "cell_type": "code",
   "execution_count": 20,
   "metadata": {},
   "outputs": [],
   "source": [
    "final_df.to_csv(r\"Feature DB\\improved_dataset.csv\", index=False)"
   ]
  },
  {
   "cell_type": "code",
   "execution_count": 21,
   "metadata": {},
   "outputs": [
    {
     "data": {
      "text/plain": [
       "bookID                9289\n",
       "title                 9289\n",
       "authors_x             9289\n",
       "average_rating        9289\n",
       "isbn                  9289\n",
       "isbn13                9289\n",
       "language_code         9289\n",
       "num_pages             9289\n",
       "ratings_count         9289\n",
       "text_reviews_count    9289\n",
       "publication_date      9289\n",
       "publisher             9289\n",
       "book_id               9289\n",
       "authors_y             9289\n",
       "genres                9289\n",
       "dtype: int64"
      ]
     },
     "execution_count": 21,
     "metadata": {},
     "output_type": "execute_result"
    }
   ],
   "source": [
    "final_df.count()"
   ]
  },
  {
   "cell_type": "markdown",
   "metadata": {},
   "source": [
    "# 3. First Solution Feature Engineering and Training"
   ]
  },
  {
   "cell_type": "markdown",
   "metadata": {},
   "source": [
    "<h2>Author column feature - Weighted Mean of each rates of authors how wrote the book</H2>\n",
    "The code below is calling a python script contained in Tools folder.\n",
    "For a mystic reason it was not possible to run it in the notebook so the call is followed by three paths as arguments that are needed to get the datasets in the script and to export the final one."
   ]
  },
  {
   "cell_type": "code",
   "execution_count": 22,
   "metadata": {},
   "outputs": [],
   "source": [
    "!python Tools\\weighted_mean_for_author_rates.py \"Feature DB\\improved_dataset.csv\" \"Feature DB\\author_info.csv\""
   ]
  },
  {
   "cell_type": "code",
   "execution_count": 23,
   "metadata": {},
   "outputs": [],
   "source": [
    "final_df = pd.read_csv(r\"Feature DB\\improved_dataset.csv\")"
   ]
  },
  {
   "cell_type": "markdown",
   "metadata": {},
   "source": [
    "<h2>Language_code"
   ]
  },
  {
   "cell_type": "code",
   "execution_count": 24,
   "metadata": {},
   "outputs": [
    {
     "data": {
      "text/plain": [
       "language_code\n",
       "eng      7607\n",
       "en-US    1225\n",
       "en-GB     167\n",
       "spa       131\n",
       "fre        68\n",
       "ger        34\n",
       "mul        12\n",
       "jpn        11\n",
       "en-CA       7\n",
       "por         7\n",
       "ita         4\n",
       "grc         3\n",
       "enm         3\n",
       "lat         2\n",
       "rus         2\n",
       "ara         1\n",
       "nl          1\n",
       "nor         1\n",
       "swe         1\n",
       "tur         1\n",
       "ale         1\n",
       "Name: count, dtype: int64"
      ]
     },
     "execution_count": 24,
     "metadata": {},
     "output_type": "execute_result"
    }
   ],
   "source": [
    "final_df['language_code'].value_counts()"
   ]
  },
  {
   "cell_type": "code",
   "execution_count": 25,
   "metadata": {},
   "outputs": [],
   "source": [
    "vectorise_lg_code=pd.get_dummies(final_df['language_code'])"
   ]
  },
  {
   "cell_type": "code",
   "execution_count": 26,
   "metadata": {},
   "outputs": [],
   "source": [
    "vectorise_lg_code = pd.concat([final_df['average_rating'],vectorise_lg_code],axis=1)"
   ]
  },
  {
   "cell_type": "code",
   "execution_count": 27,
   "metadata": {},
   "outputs": [
    {
     "data": {
      "text/html": [
       "<div>\n",
       "<style scoped>\n",
       "    .dataframe tbody tr th:only-of-type {\n",
       "        vertical-align: middle;\n",
       "    }\n",
       "\n",
       "    .dataframe tbody tr th {\n",
       "        vertical-align: top;\n",
       "    }\n",
       "\n",
       "    .dataframe thead th {\n",
       "        text-align: right;\n",
       "    }\n",
       "</style>\n",
       "<table border=\"1\" class=\"dataframe\">\n",
       "  <thead>\n",
       "    <tr style=\"text-align: right;\">\n",
       "      <th></th>\n",
       "      <th>average_rating</th>\n",
       "      <th>ale</th>\n",
       "      <th>ara</th>\n",
       "      <th>en-CA</th>\n",
       "      <th>en-GB</th>\n",
       "      <th>en-US</th>\n",
       "      <th>eng</th>\n",
       "      <th>enm</th>\n",
       "      <th>fre</th>\n",
       "      <th>ger</th>\n",
       "      <th>...</th>\n",
       "      <th>jpn</th>\n",
       "      <th>lat</th>\n",
       "      <th>mul</th>\n",
       "      <th>nl</th>\n",
       "      <th>nor</th>\n",
       "      <th>por</th>\n",
       "      <th>rus</th>\n",
       "      <th>spa</th>\n",
       "      <th>swe</th>\n",
       "      <th>tur</th>\n",
       "    </tr>\n",
       "  </thead>\n",
       "  <tbody>\n",
       "    <tr>\n",
       "      <th>average_rating</th>\n",
       "      <td>1.000000</td>\n",
       "      <td>0.015838</td>\n",
       "      <td>-0.015063</td>\n",
       "      <td>0.008165</td>\n",
       "      <td>-0.005061</td>\n",
       "      <td>-0.043428</td>\n",
       "      <td>0.025623</td>\n",
       "      <td>-0.004726</td>\n",
       "      <td>0.009846</td>\n",
       "      <td>0.006065</td>\n",
       "      <td>...</td>\n",
       "      <td>0.044501</td>\n",
       "      <td>0.020241</td>\n",
       "      <td>0.029442</td>\n",
       "      <td>0.008971</td>\n",
       "      <td>-0.013156</td>\n",
       "      <td>0.004127</td>\n",
       "      <td>0.016734</td>\n",
       "      <td>0.005959</td>\n",
       "      <td>-0.001329</td>\n",
       "      <td>0.018127</td>\n",
       "    </tr>\n",
       "    <tr>\n",
       "      <th>ale</th>\n",
       "      <td>0.015838</td>\n",
       "      <td>1.000000</td>\n",
       "      <td>-0.000108</td>\n",
       "      <td>-0.000285</td>\n",
       "      <td>-0.001404</td>\n",
       "      <td>-0.004044</td>\n",
       "      <td>-0.022066</td>\n",
       "      <td>-0.000187</td>\n",
       "      <td>-0.000891</td>\n",
       "      <td>-0.000629</td>\n",
       "      <td>...</td>\n",
       "      <td>-0.000357</td>\n",
       "      <td>-0.000152</td>\n",
       "      <td>-0.000373</td>\n",
       "      <td>-0.000108</td>\n",
       "      <td>-0.000108</td>\n",
       "      <td>-0.000285</td>\n",
       "      <td>-0.000152</td>\n",
       "      <td>-0.001241</td>\n",
       "      <td>-0.000108</td>\n",
       "      <td>-0.000108</td>\n",
       "    </tr>\n",
       "    <tr>\n",
       "      <th>ara</th>\n",
       "      <td>-0.015063</td>\n",
       "      <td>-0.000108</td>\n",
       "      <td>1.000000</td>\n",
       "      <td>-0.000285</td>\n",
       "      <td>-0.001404</td>\n",
       "      <td>-0.004044</td>\n",
       "      <td>-0.022066</td>\n",
       "      <td>-0.000187</td>\n",
       "      <td>-0.000891</td>\n",
       "      <td>-0.000629</td>\n",
       "      <td>...</td>\n",
       "      <td>-0.000357</td>\n",
       "      <td>-0.000152</td>\n",
       "      <td>-0.000373</td>\n",
       "      <td>-0.000108</td>\n",
       "      <td>-0.000108</td>\n",
       "      <td>-0.000285</td>\n",
       "      <td>-0.000152</td>\n",
       "      <td>-0.001241</td>\n",
       "      <td>-0.000108</td>\n",
       "      <td>-0.000108</td>\n",
       "    </tr>\n",
       "    <tr>\n",
       "      <th>en-CA</th>\n",
       "      <td>0.008165</td>\n",
       "      <td>-0.000285</td>\n",
       "      <td>-0.000285</td>\n",
       "      <td>1.000000</td>\n",
       "      <td>-0.003716</td>\n",
       "      <td>-0.010703</td>\n",
       "      <td>-0.058401</td>\n",
       "      <td>-0.000494</td>\n",
       "      <td>-0.002358</td>\n",
       "      <td>-0.001664</td>\n",
       "      <td>...</td>\n",
       "      <td>-0.000946</td>\n",
       "      <td>-0.000403</td>\n",
       "      <td>-0.000988</td>\n",
       "      <td>-0.000285</td>\n",
       "      <td>-0.000285</td>\n",
       "      <td>-0.000754</td>\n",
       "      <td>-0.000403</td>\n",
       "      <td>-0.003284</td>\n",
       "      <td>-0.000285</td>\n",
       "      <td>-0.000285</td>\n",
       "    </tr>\n",
       "    <tr>\n",
       "      <th>en-GB</th>\n",
       "      <td>-0.005061</td>\n",
       "      <td>-0.001404</td>\n",
       "      <td>-0.001404</td>\n",
       "      <td>-0.003716</td>\n",
       "      <td>1.000000</td>\n",
       "      <td>-0.052736</td>\n",
       "      <td>-0.287744</td>\n",
       "      <td>-0.002432</td>\n",
       "      <td>-0.011619</td>\n",
       "      <td>-0.008201</td>\n",
       "      <td>...</td>\n",
       "      <td>-0.004659</td>\n",
       "      <td>-0.001986</td>\n",
       "      <td>-0.004866</td>\n",
       "      <td>-0.001404</td>\n",
       "      <td>-0.001404</td>\n",
       "      <td>-0.003716</td>\n",
       "      <td>-0.001986</td>\n",
       "      <td>-0.016183</td>\n",
       "      <td>-0.001404</td>\n",
       "      <td>-0.001404</td>\n",
       "    </tr>\n",
       "    <tr>\n",
       "      <th>en-US</th>\n",
       "      <td>-0.043428</td>\n",
       "      <td>-0.004044</td>\n",
       "      <td>-0.004044</td>\n",
       "      <td>-0.010703</td>\n",
       "      <td>-0.052736</td>\n",
       "      <td>1.000000</td>\n",
       "      <td>-0.828870</td>\n",
       "      <td>-0.007005</td>\n",
       "      <td>-0.033470</td>\n",
       "      <td>-0.023623</td>\n",
       "      <td>...</td>\n",
       "      <td>-0.013420</td>\n",
       "      <td>-0.005720</td>\n",
       "      <td>-0.014018</td>\n",
       "      <td>-0.004044</td>\n",
       "      <td>-0.004044</td>\n",
       "      <td>-0.010703</td>\n",
       "      <td>-0.005720</td>\n",
       "      <td>-0.046615</td>\n",
       "      <td>-0.004044</td>\n",
       "      <td>-0.004044</td>\n",
       "    </tr>\n",
       "    <tr>\n",
       "      <th>eng</th>\n",
       "      <td>0.025623</td>\n",
       "      <td>-0.022066</td>\n",
       "      <td>-0.022066</td>\n",
       "      <td>-0.058401</td>\n",
       "      <td>-0.287744</td>\n",
       "      <td>-0.828870</td>\n",
       "      <td>1.000000</td>\n",
       "      <td>-0.038224</td>\n",
       "      <td>-0.182625</td>\n",
       "      <td>-0.128898</td>\n",
       "      <td>...</td>\n",
       "      <td>-0.073226</td>\n",
       "      <td>-0.031208</td>\n",
       "      <td>-0.076486</td>\n",
       "      <td>-0.022066</td>\n",
       "      <td>-0.022066</td>\n",
       "      <td>-0.058401</td>\n",
       "      <td>-0.031208</td>\n",
       "      <td>-0.254348</td>\n",
       "      <td>-0.022066</td>\n",
       "      <td>-0.022066</td>\n",
       "    </tr>\n",
       "    <tr>\n",
       "      <th>enm</th>\n",
       "      <td>-0.004726</td>\n",
       "      <td>-0.000187</td>\n",
       "      <td>-0.000187</td>\n",
       "      <td>-0.000494</td>\n",
       "      <td>-0.002432</td>\n",
       "      <td>-0.007005</td>\n",
       "      <td>-0.038224</td>\n",
       "      <td>1.000000</td>\n",
       "      <td>-0.001544</td>\n",
       "      <td>-0.001089</td>\n",
       "      <td>...</td>\n",
       "      <td>-0.000619</td>\n",
       "      <td>-0.000264</td>\n",
       "      <td>-0.000646</td>\n",
       "      <td>-0.000187</td>\n",
       "      <td>-0.000187</td>\n",
       "      <td>-0.000494</td>\n",
       "      <td>-0.000264</td>\n",
       "      <td>-0.002150</td>\n",
       "      <td>-0.000187</td>\n",
       "      <td>-0.000187</td>\n",
       "    </tr>\n",
       "    <tr>\n",
       "      <th>fre</th>\n",
       "      <td>0.009846</td>\n",
       "      <td>-0.000891</td>\n",
       "      <td>-0.000891</td>\n",
       "      <td>-0.002358</td>\n",
       "      <td>-0.011619</td>\n",
       "      <td>-0.033470</td>\n",
       "      <td>-0.182625</td>\n",
       "      <td>-0.001544</td>\n",
       "      <td>1.000000</td>\n",
       "      <td>-0.005205</td>\n",
       "      <td>...</td>\n",
       "      <td>-0.002957</td>\n",
       "      <td>-0.001260</td>\n",
       "      <td>-0.003089</td>\n",
       "      <td>-0.000891</td>\n",
       "      <td>-0.000891</td>\n",
       "      <td>-0.002358</td>\n",
       "      <td>-0.001260</td>\n",
       "      <td>-0.010271</td>\n",
       "      <td>-0.000891</td>\n",
       "      <td>-0.000891</td>\n",
       "    </tr>\n",
       "    <tr>\n",
       "      <th>ger</th>\n",
       "      <td>0.006065</td>\n",
       "      <td>-0.000629</td>\n",
       "      <td>-0.000629</td>\n",
       "      <td>-0.001664</td>\n",
       "      <td>-0.008201</td>\n",
       "      <td>-0.023623</td>\n",
       "      <td>-0.128898</td>\n",
       "      <td>-0.001089</td>\n",
       "      <td>-0.005205</td>\n",
       "      <td>1.000000</td>\n",
       "      <td>...</td>\n",
       "      <td>-0.002087</td>\n",
       "      <td>-0.000889</td>\n",
       "      <td>-0.002180</td>\n",
       "      <td>-0.000629</td>\n",
       "      <td>-0.000629</td>\n",
       "      <td>-0.001664</td>\n",
       "      <td>-0.000889</td>\n",
       "      <td>-0.007249</td>\n",
       "      <td>-0.000629</td>\n",
       "      <td>-0.000629</td>\n",
       "    </tr>\n",
       "    <tr>\n",
       "      <th>grc</th>\n",
       "      <td>-0.006708</td>\n",
       "      <td>-0.000187</td>\n",
       "      <td>-0.000187</td>\n",
       "      <td>-0.000494</td>\n",
       "      <td>-0.002432</td>\n",
       "      <td>-0.007005</td>\n",
       "      <td>-0.038224</td>\n",
       "      <td>-0.000323</td>\n",
       "      <td>-0.001544</td>\n",
       "      <td>-0.001089</td>\n",
       "      <td>...</td>\n",
       "      <td>-0.000619</td>\n",
       "      <td>-0.000264</td>\n",
       "      <td>-0.000646</td>\n",
       "      <td>-0.000187</td>\n",
       "      <td>-0.000187</td>\n",
       "      <td>-0.000494</td>\n",
       "      <td>-0.000264</td>\n",
       "      <td>-0.002150</td>\n",
       "      <td>-0.000187</td>\n",
       "      <td>-0.000187</td>\n",
       "    </tr>\n",
       "    <tr>\n",
       "      <th>ita</th>\n",
       "      <td>0.009169</td>\n",
       "      <td>-0.000215</td>\n",
       "      <td>-0.000215</td>\n",
       "      <td>-0.000570</td>\n",
       "      <td>-0.002808</td>\n",
       "      <td>-0.008090</td>\n",
       "      <td>-0.044140</td>\n",
       "      <td>-0.000373</td>\n",
       "      <td>-0.001782</td>\n",
       "      <td>-0.001258</td>\n",
       "      <td>...</td>\n",
       "      <td>-0.000715</td>\n",
       "      <td>-0.000305</td>\n",
       "      <td>-0.000746</td>\n",
       "      <td>-0.000215</td>\n",
       "      <td>-0.000215</td>\n",
       "      <td>-0.000570</td>\n",
       "      <td>-0.000305</td>\n",
       "      <td>-0.002482</td>\n",
       "      <td>-0.000215</td>\n",
       "      <td>-0.000215</td>\n",
       "    </tr>\n",
       "    <tr>\n",
       "      <th>jpn</th>\n",
       "      <td>0.044501</td>\n",
       "      <td>-0.000357</td>\n",
       "      <td>-0.000357</td>\n",
       "      <td>-0.000946</td>\n",
       "      <td>-0.004659</td>\n",
       "      <td>-0.013420</td>\n",
       "      <td>-0.073226</td>\n",
       "      <td>-0.000619</td>\n",
       "      <td>-0.002957</td>\n",
       "      <td>-0.002087</td>\n",
       "      <td>...</td>\n",
       "      <td>1.000000</td>\n",
       "      <td>-0.000505</td>\n",
       "      <td>-0.001238</td>\n",
       "      <td>-0.000357</td>\n",
       "      <td>-0.000357</td>\n",
       "      <td>-0.000946</td>\n",
       "      <td>-0.000505</td>\n",
       "      <td>-0.004118</td>\n",
       "      <td>-0.000357</td>\n",
       "      <td>-0.000357</td>\n",
       "    </tr>\n",
       "    <tr>\n",
       "      <th>lat</th>\n",
       "      <td>0.020241</td>\n",
       "      <td>-0.000152</td>\n",
       "      <td>-0.000152</td>\n",
       "      <td>-0.000403</td>\n",
       "      <td>-0.001986</td>\n",
       "      <td>-0.005720</td>\n",
       "      <td>-0.031208</td>\n",
       "      <td>-0.000264</td>\n",
       "      <td>-0.001260</td>\n",
       "      <td>-0.000889</td>\n",
       "      <td>...</td>\n",
       "      <td>-0.000505</td>\n",
       "      <td>1.000000</td>\n",
       "      <td>-0.000528</td>\n",
       "      <td>-0.000152</td>\n",
       "      <td>-0.000152</td>\n",
       "      <td>-0.000403</td>\n",
       "      <td>-0.000215</td>\n",
       "      <td>-0.001755</td>\n",
       "      <td>-0.000152</td>\n",
       "      <td>-0.000152</td>\n",
       "    </tr>\n",
       "    <tr>\n",
       "      <th>mul</th>\n",
       "      <td>0.029442</td>\n",
       "      <td>-0.000373</td>\n",
       "      <td>-0.000373</td>\n",
       "      <td>-0.000988</td>\n",
       "      <td>-0.004866</td>\n",
       "      <td>-0.014018</td>\n",
       "      <td>-0.076486</td>\n",
       "      <td>-0.000646</td>\n",
       "      <td>-0.003089</td>\n",
       "      <td>-0.002180</td>\n",
       "      <td>...</td>\n",
       "      <td>-0.001238</td>\n",
       "      <td>-0.000528</td>\n",
       "      <td>1.000000</td>\n",
       "      <td>-0.000373</td>\n",
       "      <td>-0.000373</td>\n",
       "      <td>-0.000988</td>\n",
       "      <td>-0.000528</td>\n",
       "      <td>-0.004302</td>\n",
       "      <td>-0.000373</td>\n",
       "      <td>-0.000373</td>\n",
       "    </tr>\n",
       "    <tr>\n",
       "      <th>nl</th>\n",
       "      <td>0.008971</td>\n",
       "      <td>-0.000108</td>\n",
       "      <td>-0.000108</td>\n",
       "      <td>-0.000285</td>\n",
       "      <td>-0.001404</td>\n",
       "      <td>-0.004044</td>\n",
       "      <td>-0.022066</td>\n",
       "      <td>-0.000187</td>\n",
       "      <td>-0.000891</td>\n",
       "      <td>-0.000629</td>\n",
       "      <td>...</td>\n",
       "      <td>-0.000357</td>\n",
       "      <td>-0.000152</td>\n",
       "      <td>-0.000373</td>\n",
       "      <td>1.000000</td>\n",
       "      <td>-0.000108</td>\n",
       "      <td>-0.000285</td>\n",
       "      <td>-0.000152</td>\n",
       "      <td>-0.001241</td>\n",
       "      <td>-0.000108</td>\n",
       "      <td>-0.000108</td>\n",
       "    </tr>\n",
       "    <tr>\n",
       "      <th>nor</th>\n",
       "      <td>-0.013156</td>\n",
       "      <td>-0.000108</td>\n",
       "      <td>-0.000108</td>\n",
       "      <td>-0.000285</td>\n",
       "      <td>-0.001404</td>\n",
       "      <td>-0.004044</td>\n",
       "      <td>-0.022066</td>\n",
       "      <td>-0.000187</td>\n",
       "      <td>-0.000891</td>\n",
       "      <td>-0.000629</td>\n",
       "      <td>...</td>\n",
       "      <td>-0.000357</td>\n",
       "      <td>-0.000152</td>\n",
       "      <td>-0.000373</td>\n",
       "      <td>-0.000108</td>\n",
       "      <td>1.000000</td>\n",
       "      <td>-0.000285</td>\n",
       "      <td>-0.000152</td>\n",
       "      <td>-0.001241</td>\n",
       "      <td>-0.000108</td>\n",
       "      <td>-0.000108</td>\n",
       "    </tr>\n",
       "    <tr>\n",
       "      <th>por</th>\n",
       "      <td>0.004127</td>\n",
       "      <td>-0.000285</td>\n",
       "      <td>-0.000285</td>\n",
       "      <td>-0.000754</td>\n",
       "      <td>-0.003716</td>\n",
       "      <td>-0.010703</td>\n",
       "      <td>-0.058401</td>\n",
       "      <td>-0.000494</td>\n",
       "      <td>-0.002358</td>\n",
       "      <td>-0.001664</td>\n",
       "      <td>...</td>\n",
       "      <td>-0.000946</td>\n",
       "      <td>-0.000403</td>\n",
       "      <td>-0.000988</td>\n",
       "      <td>-0.000285</td>\n",
       "      <td>-0.000285</td>\n",
       "      <td>1.000000</td>\n",
       "      <td>-0.000403</td>\n",
       "      <td>-0.003284</td>\n",
       "      <td>-0.000285</td>\n",
       "      <td>-0.000285</td>\n",
       "    </tr>\n",
       "    <tr>\n",
       "      <th>rus</th>\n",
       "      <td>0.016734</td>\n",
       "      <td>-0.000152</td>\n",
       "      <td>-0.000152</td>\n",
       "      <td>-0.000403</td>\n",
       "      <td>-0.001986</td>\n",
       "      <td>-0.005720</td>\n",
       "      <td>-0.031208</td>\n",
       "      <td>-0.000264</td>\n",
       "      <td>-0.001260</td>\n",
       "      <td>-0.000889</td>\n",
       "      <td>...</td>\n",
       "      <td>-0.000505</td>\n",
       "      <td>-0.000215</td>\n",
       "      <td>-0.000528</td>\n",
       "      <td>-0.000152</td>\n",
       "      <td>-0.000152</td>\n",
       "      <td>-0.000403</td>\n",
       "      <td>1.000000</td>\n",
       "      <td>-0.001755</td>\n",
       "      <td>-0.000152</td>\n",
       "      <td>-0.000152</td>\n",
       "    </tr>\n",
       "    <tr>\n",
       "      <th>spa</th>\n",
       "      <td>0.005959</td>\n",
       "      <td>-0.001241</td>\n",
       "      <td>-0.001241</td>\n",
       "      <td>-0.003284</td>\n",
       "      <td>-0.016183</td>\n",
       "      <td>-0.046615</td>\n",
       "      <td>-0.254348</td>\n",
       "      <td>-0.002150</td>\n",
       "      <td>-0.010271</td>\n",
       "      <td>-0.007249</td>\n",
       "      <td>...</td>\n",
       "      <td>-0.004118</td>\n",
       "      <td>-0.001755</td>\n",
       "      <td>-0.004302</td>\n",
       "      <td>-0.001241</td>\n",
       "      <td>-0.001241</td>\n",
       "      <td>-0.003284</td>\n",
       "      <td>-0.001755</td>\n",
       "      <td>1.000000</td>\n",
       "      <td>-0.001241</td>\n",
       "      <td>-0.001241</td>\n",
       "    </tr>\n",
       "    <tr>\n",
       "      <th>swe</th>\n",
       "      <td>-0.001329</td>\n",
       "      <td>-0.000108</td>\n",
       "      <td>-0.000108</td>\n",
       "      <td>-0.000285</td>\n",
       "      <td>-0.001404</td>\n",
       "      <td>-0.004044</td>\n",
       "      <td>-0.022066</td>\n",
       "      <td>-0.000187</td>\n",
       "      <td>-0.000891</td>\n",
       "      <td>-0.000629</td>\n",
       "      <td>...</td>\n",
       "      <td>-0.000357</td>\n",
       "      <td>-0.000152</td>\n",
       "      <td>-0.000373</td>\n",
       "      <td>-0.000108</td>\n",
       "      <td>-0.000108</td>\n",
       "      <td>-0.000285</td>\n",
       "      <td>-0.000152</td>\n",
       "      <td>-0.001241</td>\n",
       "      <td>1.000000</td>\n",
       "      <td>-0.000108</td>\n",
       "    </tr>\n",
       "    <tr>\n",
       "      <th>tur</th>\n",
       "      <td>0.018127</td>\n",
       "      <td>-0.000108</td>\n",
       "      <td>-0.000108</td>\n",
       "      <td>-0.000285</td>\n",
       "      <td>-0.001404</td>\n",
       "      <td>-0.004044</td>\n",
       "      <td>-0.022066</td>\n",
       "      <td>-0.000187</td>\n",
       "      <td>-0.000891</td>\n",
       "      <td>-0.000629</td>\n",
       "      <td>...</td>\n",
       "      <td>-0.000357</td>\n",
       "      <td>-0.000152</td>\n",
       "      <td>-0.000373</td>\n",
       "      <td>-0.000108</td>\n",
       "      <td>-0.000108</td>\n",
       "      <td>-0.000285</td>\n",
       "      <td>-0.000152</td>\n",
       "      <td>-0.001241</td>\n",
       "      <td>-0.000108</td>\n",
       "      <td>1.000000</td>\n",
       "    </tr>\n",
       "  </tbody>\n",
       "</table>\n",
       "<p>22 rows × 22 columns</p>\n",
       "</div>"
      ],
      "text/plain": [
       "                average_rating       ale       ara     en-CA     en-GB  \\\n",
       "average_rating        1.000000  0.015838 -0.015063  0.008165 -0.005061   \n",
       "ale                   0.015838  1.000000 -0.000108 -0.000285 -0.001404   \n",
       "ara                  -0.015063 -0.000108  1.000000 -0.000285 -0.001404   \n",
       "en-CA                 0.008165 -0.000285 -0.000285  1.000000 -0.003716   \n",
       "en-GB                -0.005061 -0.001404 -0.001404 -0.003716  1.000000   \n",
       "en-US                -0.043428 -0.004044 -0.004044 -0.010703 -0.052736   \n",
       "eng                   0.025623 -0.022066 -0.022066 -0.058401 -0.287744   \n",
       "enm                  -0.004726 -0.000187 -0.000187 -0.000494 -0.002432   \n",
       "fre                   0.009846 -0.000891 -0.000891 -0.002358 -0.011619   \n",
       "ger                   0.006065 -0.000629 -0.000629 -0.001664 -0.008201   \n",
       "grc                  -0.006708 -0.000187 -0.000187 -0.000494 -0.002432   \n",
       "ita                   0.009169 -0.000215 -0.000215 -0.000570 -0.002808   \n",
       "jpn                   0.044501 -0.000357 -0.000357 -0.000946 -0.004659   \n",
       "lat                   0.020241 -0.000152 -0.000152 -0.000403 -0.001986   \n",
       "mul                   0.029442 -0.000373 -0.000373 -0.000988 -0.004866   \n",
       "nl                    0.008971 -0.000108 -0.000108 -0.000285 -0.001404   \n",
       "nor                  -0.013156 -0.000108 -0.000108 -0.000285 -0.001404   \n",
       "por                   0.004127 -0.000285 -0.000285 -0.000754 -0.003716   \n",
       "rus                   0.016734 -0.000152 -0.000152 -0.000403 -0.001986   \n",
       "spa                   0.005959 -0.001241 -0.001241 -0.003284 -0.016183   \n",
       "swe                  -0.001329 -0.000108 -0.000108 -0.000285 -0.001404   \n",
       "tur                   0.018127 -0.000108 -0.000108 -0.000285 -0.001404   \n",
       "\n",
       "                   en-US       eng       enm       fre       ger  ...  \\\n",
       "average_rating -0.043428  0.025623 -0.004726  0.009846  0.006065  ...   \n",
       "ale            -0.004044 -0.022066 -0.000187 -0.000891 -0.000629  ...   \n",
       "ara            -0.004044 -0.022066 -0.000187 -0.000891 -0.000629  ...   \n",
       "en-CA          -0.010703 -0.058401 -0.000494 -0.002358 -0.001664  ...   \n",
       "en-GB          -0.052736 -0.287744 -0.002432 -0.011619 -0.008201  ...   \n",
       "en-US           1.000000 -0.828870 -0.007005 -0.033470 -0.023623  ...   \n",
       "eng            -0.828870  1.000000 -0.038224 -0.182625 -0.128898  ...   \n",
       "enm            -0.007005 -0.038224  1.000000 -0.001544 -0.001089  ...   \n",
       "fre            -0.033470 -0.182625 -0.001544  1.000000 -0.005205  ...   \n",
       "ger            -0.023623 -0.128898 -0.001089 -0.005205  1.000000  ...   \n",
       "grc            -0.007005 -0.038224 -0.000323 -0.001544 -0.001089  ...   \n",
       "ita            -0.008090 -0.044140 -0.000373 -0.001782 -0.001258  ...   \n",
       "jpn            -0.013420 -0.073226 -0.000619 -0.002957 -0.002087  ...   \n",
       "lat            -0.005720 -0.031208 -0.000264 -0.001260 -0.000889  ...   \n",
       "mul            -0.014018 -0.076486 -0.000646 -0.003089 -0.002180  ...   \n",
       "nl             -0.004044 -0.022066 -0.000187 -0.000891 -0.000629  ...   \n",
       "nor            -0.004044 -0.022066 -0.000187 -0.000891 -0.000629  ...   \n",
       "por            -0.010703 -0.058401 -0.000494 -0.002358 -0.001664  ...   \n",
       "rus            -0.005720 -0.031208 -0.000264 -0.001260 -0.000889  ...   \n",
       "spa            -0.046615 -0.254348 -0.002150 -0.010271 -0.007249  ...   \n",
       "swe            -0.004044 -0.022066 -0.000187 -0.000891 -0.000629  ...   \n",
       "tur            -0.004044 -0.022066 -0.000187 -0.000891 -0.000629  ...   \n",
       "\n",
       "                     jpn       lat       mul        nl       nor       por  \\\n",
       "average_rating  0.044501  0.020241  0.029442  0.008971 -0.013156  0.004127   \n",
       "ale            -0.000357 -0.000152 -0.000373 -0.000108 -0.000108 -0.000285   \n",
       "ara            -0.000357 -0.000152 -0.000373 -0.000108 -0.000108 -0.000285   \n",
       "en-CA          -0.000946 -0.000403 -0.000988 -0.000285 -0.000285 -0.000754   \n",
       "en-GB          -0.004659 -0.001986 -0.004866 -0.001404 -0.001404 -0.003716   \n",
       "en-US          -0.013420 -0.005720 -0.014018 -0.004044 -0.004044 -0.010703   \n",
       "eng            -0.073226 -0.031208 -0.076486 -0.022066 -0.022066 -0.058401   \n",
       "enm            -0.000619 -0.000264 -0.000646 -0.000187 -0.000187 -0.000494   \n",
       "fre            -0.002957 -0.001260 -0.003089 -0.000891 -0.000891 -0.002358   \n",
       "ger            -0.002087 -0.000889 -0.002180 -0.000629 -0.000629 -0.001664   \n",
       "grc            -0.000619 -0.000264 -0.000646 -0.000187 -0.000187 -0.000494   \n",
       "ita            -0.000715 -0.000305 -0.000746 -0.000215 -0.000215 -0.000570   \n",
       "jpn             1.000000 -0.000505 -0.001238 -0.000357 -0.000357 -0.000946   \n",
       "lat            -0.000505  1.000000 -0.000528 -0.000152 -0.000152 -0.000403   \n",
       "mul            -0.001238 -0.000528  1.000000 -0.000373 -0.000373 -0.000988   \n",
       "nl             -0.000357 -0.000152 -0.000373  1.000000 -0.000108 -0.000285   \n",
       "nor            -0.000357 -0.000152 -0.000373 -0.000108  1.000000 -0.000285   \n",
       "por            -0.000946 -0.000403 -0.000988 -0.000285 -0.000285  1.000000   \n",
       "rus            -0.000505 -0.000215 -0.000528 -0.000152 -0.000152 -0.000403   \n",
       "spa            -0.004118 -0.001755 -0.004302 -0.001241 -0.001241 -0.003284   \n",
       "swe            -0.000357 -0.000152 -0.000373 -0.000108 -0.000108 -0.000285   \n",
       "tur            -0.000357 -0.000152 -0.000373 -0.000108 -0.000108 -0.000285   \n",
       "\n",
       "                     rus       spa       swe       tur  \n",
       "average_rating  0.016734  0.005959 -0.001329  0.018127  \n",
       "ale            -0.000152 -0.001241 -0.000108 -0.000108  \n",
       "ara            -0.000152 -0.001241 -0.000108 -0.000108  \n",
       "en-CA          -0.000403 -0.003284 -0.000285 -0.000285  \n",
       "en-GB          -0.001986 -0.016183 -0.001404 -0.001404  \n",
       "en-US          -0.005720 -0.046615 -0.004044 -0.004044  \n",
       "eng            -0.031208 -0.254348 -0.022066 -0.022066  \n",
       "enm            -0.000264 -0.002150 -0.000187 -0.000187  \n",
       "fre            -0.001260 -0.010271 -0.000891 -0.000891  \n",
       "ger            -0.000889 -0.007249 -0.000629 -0.000629  \n",
       "grc            -0.000264 -0.002150 -0.000187 -0.000187  \n",
       "ita            -0.000305 -0.002482 -0.000215 -0.000215  \n",
       "jpn            -0.000505 -0.004118 -0.000357 -0.000357  \n",
       "lat            -0.000215 -0.001755 -0.000152 -0.000152  \n",
       "mul            -0.000528 -0.004302 -0.000373 -0.000373  \n",
       "nl             -0.000152 -0.001241 -0.000108 -0.000108  \n",
       "nor            -0.000152 -0.001241 -0.000108 -0.000108  \n",
       "por            -0.000403 -0.003284 -0.000285 -0.000285  \n",
       "rus             1.000000 -0.001755 -0.000152 -0.000152  \n",
       "spa            -0.001755  1.000000 -0.001241 -0.001241  \n",
       "swe            -0.000152 -0.001241  1.000000 -0.000108  \n",
       "tur            -0.000152 -0.001241 -0.000108  1.000000  \n",
       "\n",
       "[22 rows x 22 columns]"
      ]
     },
     "execution_count": 27,
     "metadata": {},
     "output_type": "execute_result"
    }
   ],
   "source": [
    "vectorise_lg_code.corr()"
   ]
  },
  {
   "cell_type": "markdown",
   "metadata": {},
   "source": [
    "There is not that much of different language code, we could vectorize it but due to their week coorelation, we drop this column."
   ]
  },
  {
   "cell_type": "code",
   "execution_count": 28,
   "metadata": {},
   "outputs": [],
   "source": [
    "final_df = final_df.drop('language_code',axis = 1)"
   ]
  },
  {
   "cell_type": "code",
   "execution_count": 29,
   "metadata": {},
   "outputs": [],
   "source": [
    "final_df.to_csv(r\"Feature DB\\improved_dataset.csv\", index=False)"
   ]
  },
  {
   "cell_type": "markdown",
   "metadata": {},
   "source": [
    "<h2>Publication_date"
   ]
  },
  {
   "cell_type": "code",
   "execution_count": 30,
   "metadata": {},
   "outputs": [],
   "source": [
    "#categorize date column otherwise we cant use it for the training\n",
    "# Convert 'date_column' to datetime type if it's not already\n",
    "final_df['publication_date'] = pd.to_datetime(final_df['publication_date'], errors='coerce')"
   ]
  },
  {
   "cell_type": "markdown",
   "metadata": {},
   "source": [
    "we are gonna keep only the day, month, year and the age."
   ]
  },
  {
   "cell_type": "code",
   "execution_count": 31,
   "metadata": {},
   "outputs": [],
   "source": [
    "# Extract relevant components\n",
    "final_df['year'] = final_df['publication_date'].dt.year\n",
    "final_df['month'] = final_df['publication_date'].dt.month\n",
    "final_df['day'] = final_df['publication_date'].dt.day"
   ]
  },
  {
   "cell_type": "code",
   "execution_count": 32,
   "metadata": {},
   "outputs": [
    {
     "data": {
      "text/html": [
       "<div>\n",
       "<style scoped>\n",
       "    .dataframe tbody tr th:only-of-type {\n",
       "        vertical-align: middle;\n",
       "    }\n",
       "\n",
       "    .dataframe tbody tr th {\n",
       "        vertical-align: top;\n",
       "    }\n",
       "\n",
       "    .dataframe thead th {\n",
       "        text-align: right;\n",
       "    }\n",
       "</style>\n",
       "<table border=\"1\" class=\"dataframe\">\n",
       "  <thead>\n",
       "    <tr style=\"text-align: right;\">\n",
       "      <th></th>\n",
       "      <th>bookID</th>\n",
       "      <th>title</th>\n",
       "      <th>authors</th>\n",
       "      <th>average_rating</th>\n",
       "      <th>isbn</th>\n",
       "      <th>isbn13</th>\n",
       "      <th>num_pages</th>\n",
       "      <th>ratings_count</th>\n",
       "      <th>text_reviews_count</th>\n",
       "      <th>publication_date</th>\n",
       "      <th>publisher</th>\n",
       "      <th>book_id</th>\n",
       "      <th>author_mean_rates</th>\n",
       "      <th>genres</th>\n",
       "      <th>year</th>\n",
       "      <th>month</th>\n",
       "      <th>day</th>\n",
       "    </tr>\n",
       "  </thead>\n",
       "  <tbody>\n",
       "    <tr>\n",
       "      <th>0</th>\n",
       "      <td>1</td>\n",
       "      <td>Harry Potter and the Half-Blood Prince (Harry ...</td>\n",
       "      <td>J.K. Rowling/Mary GrandPré</td>\n",
       "      <td>4.57</td>\n",
       "      <td>0439785960</td>\n",
       "      <td>9780439785969</td>\n",
       "      <td>652</td>\n",
       "      <td>2095690</td>\n",
       "      <td>27591</td>\n",
       "      <td>2006-09-16</td>\n",
       "      <td>Scholastic Inc.</td>\n",
       "      <td>1</td>\n",
       "      <td>4.463</td>\n",
       "      <td>['fantasy, paranormal', 'young-adult', 'fictio...</td>\n",
       "      <td>2006.0</td>\n",
       "      <td>9.0</td>\n",
       "      <td>16.0</td>\n",
       "    </tr>\n",
       "    <tr>\n",
       "      <th>1</th>\n",
       "      <td>2</td>\n",
       "      <td>Harry Potter and the Order of the Phoenix (Har...</td>\n",
       "      <td>J.K. Rowling/Mary GrandPré</td>\n",
       "      <td>4.49</td>\n",
       "      <td>0439358078</td>\n",
       "      <td>9780439358071</td>\n",
       "      <td>870</td>\n",
       "      <td>2153167</td>\n",
       "      <td>29221</td>\n",
       "      <td>2004-09-01</td>\n",
       "      <td>Scholastic Inc.</td>\n",
       "      <td>2</td>\n",
       "      <td>4.463</td>\n",
       "      <td>['fantasy, paranormal', 'children', 'fiction',...</td>\n",
       "      <td>2004.0</td>\n",
       "      <td>9.0</td>\n",
       "      <td>1.0</td>\n",
       "    </tr>\n",
       "    <tr>\n",
       "      <th>2</th>\n",
       "      <td>4</td>\n",
       "      <td>Harry Potter and the Chamber of Secrets (Harry...</td>\n",
       "      <td>J.K. Rowling</td>\n",
       "      <td>4.42</td>\n",
       "      <td>0439554896</td>\n",
       "      <td>9780439554893</td>\n",
       "      <td>352</td>\n",
       "      <td>6333</td>\n",
       "      <td>244</td>\n",
       "      <td>2003-11-01</td>\n",
       "      <td>Scholastic</td>\n",
       "      <td>4</td>\n",
       "      <td>4.440</td>\n",
       "      <td>['fantasy, paranormal', 'young-adult', 'fictio...</td>\n",
       "      <td>2003.0</td>\n",
       "      <td>11.0</td>\n",
       "      <td>1.0</td>\n",
       "    </tr>\n",
       "    <tr>\n",
       "      <th>3</th>\n",
       "      <td>5</td>\n",
       "      <td>Harry Potter and the Prisoner of Azkaban (Harr...</td>\n",
       "      <td>J.K. Rowling/Mary GrandPré</td>\n",
       "      <td>4.56</td>\n",
       "      <td>043965548X</td>\n",
       "      <td>9780439655484</td>\n",
       "      <td>435</td>\n",
       "      <td>2339585</td>\n",
       "      <td>36325</td>\n",
       "      <td>2004-05-01</td>\n",
       "      <td>Scholastic Inc.</td>\n",
       "      <td>5</td>\n",
       "      <td>4.463</td>\n",
       "      <td>['fiction', 'children', 'fantasy, paranormal',...</td>\n",
       "      <td>2004.0</td>\n",
       "      <td>5.0</td>\n",
       "      <td>1.0</td>\n",
       "    </tr>\n",
       "    <tr>\n",
       "      <th>4</th>\n",
       "      <td>8</td>\n",
       "      <td>Harry Potter Boxed Set  Books 1-5 (Harry Potte...</td>\n",
       "      <td>J.K. Rowling/Mary GrandPré</td>\n",
       "      <td>4.78</td>\n",
       "      <td>0439682584</td>\n",
       "      <td>9780439682589</td>\n",
       "      <td>2690</td>\n",
       "      <td>41428</td>\n",
       "      <td>164</td>\n",
       "      <td>2004-09-13</td>\n",
       "      <td>Scholastic</td>\n",
       "      <td>8</td>\n",
       "      <td>4.463</td>\n",
       "      <td>['fantasy, paranormal', 'young-adult', 'fictio...</td>\n",
       "      <td>2004.0</td>\n",
       "      <td>9.0</td>\n",
       "      <td>13.0</td>\n",
       "    </tr>\n",
       "  </tbody>\n",
       "</table>\n",
       "</div>"
      ],
      "text/plain": [
       "   bookID                                              title  \\\n",
       "0       1  Harry Potter and the Half-Blood Prince (Harry ...   \n",
       "1       2  Harry Potter and the Order of the Phoenix (Har...   \n",
       "2       4  Harry Potter and the Chamber of Secrets (Harry...   \n",
       "3       5  Harry Potter and the Prisoner of Azkaban (Harr...   \n",
       "4       8  Harry Potter Boxed Set  Books 1-5 (Harry Potte...   \n",
       "\n",
       "                      authors  average_rating        isbn         isbn13  \\\n",
       "0  J.K. Rowling/Mary GrandPré            4.57  0439785960  9780439785969   \n",
       "1  J.K. Rowling/Mary GrandPré            4.49  0439358078  9780439358071   \n",
       "2                J.K. Rowling            4.42  0439554896  9780439554893   \n",
       "3  J.K. Rowling/Mary GrandPré            4.56  043965548X  9780439655484   \n",
       "4  J.K. Rowling/Mary GrandPré            4.78  0439682584  9780439682589   \n",
       "\n",
       "   num_pages  ratings_count  text_reviews_count publication_date  \\\n",
       "0        652        2095690               27591       2006-09-16   \n",
       "1        870        2153167               29221       2004-09-01   \n",
       "2        352           6333                 244       2003-11-01   \n",
       "3        435        2339585               36325       2004-05-01   \n",
       "4       2690          41428                 164       2004-09-13   \n",
       "\n",
       "         publisher  book_id  author_mean_rates  \\\n",
       "0  Scholastic Inc.        1              4.463   \n",
       "1  Scholastic Inc.        2              4.463   \n",
       "2       Scholastic        4              4.440   \n",
       "3  Scholastic Inc.        5              4.463   \n",
       "4       Scholastic        8              4.463   \n",
       "\n",
       "                                              genres    year  month   day  \n",
       "0  ['fantasy, paranormal', 'young-adult', 'fictio...  2006.0    9.0  16.0  \n",
       "1  ['fantasy, paranormal', 'children', 'fiction',...  2004.0    9.0   1.0  \n",
       "2  ['fantasy, paranormal', 'young-adult', 'fictio...  2003.0   11.0   1.0  \n",
       "3  ['fiction', 'children', 'fantasy, paranormal',...  2004.0    5.0   1.0  \n",
       "4  ['fantasy, paranormal', 'young-adult', 'fictio...  2004.0    9.0  13.0  "
      ]
     },
     "execution_count": 32,
     "metadata": {},
     "output_type": "execute_result"
    }
   ],
   "source": [
    "final_df.head()"
   ]
  },
  {
   "cell_type": "code",
   "execution_count": 33,
   "metadata": {},
   "outputs": [
    {
     "data": {
      "text/plain": [
       "bookID                0\n",
       "title                 0\n",
       "authors               0\n",
       "average_rating        0\n",
       "isbn                  0\n",
       "isbn13                0\n",
       "num_pages             0\n",
       "ratings_count         0\n",
       "text_reviews_count    0\n",
       "publication_date      1\n",
       "publisher             0\n",
       "book_id               0\n",
       "author_mean_rates     0\n",
       "genres                0\n",
       "year                  1\n",
       "month                 1\n",
       "day                   1\n",
       "dtype: int64"
      ]
     },
     "execution_count": 33,
     "metadata": {},
     "output_type": "execute_result"
    }
   ],
   "source": [
    "final_df.isna().sum()"
   ]
  },
  {
   "cell_type": "markdown",
   "metadata": {},
   "source": [
    "bad entry of publication date"
   ]
  },
  {
   "cell_type": "code",
   "execution_count": 34,
   "metadata": {},
   "outputs": [],
   "source": [
    "\n",
    "final_df = final_df.dropna()"
   ]
  },
  {
   "cell_type": "code",
   "execution_count": 35,
   "metadata": {},
   "outputs": [
    {
     "data": {
      "text/plain": [
       "bookID                0\n",
       "title                 0\n",
       "authors               0\n",
       "average_rating        0\n",
       "isbn                  0\n",
       "isbn13                0\n",
       "num_pages             0\n",
       "ratings_count         0\n",
       "text_reviews_count    0\n",
       "publication_date      0\n",
       "publisher             0\n",
       "book_id               0\n",
       "author_mean_rates     0\n",
       "genres                0\n",
       "year                  0\n",
       "month                 0\n",
       "day                   0\n",
       "dtype: int64"
      ]
     },
     "execution_count": 35,
     "metadata": {},
     "output_type": "execute_result"
    }
   ],
   "source": [
    "final_df.isna().sum()"
   ]
  },
  {
   "cell_type": "code",
   "execution_count": 36,
   "metadata": {},
   "outputs": [
    {
     "data": {
      "text/html": [
       "<div>\n",
       "<style scoped>\n",
       "    .dataframe tbody tr th:only-of-type {\n",
       "        vertical-align: middle;\n",
       "    }\n",
       "\n",
       "    .dataframe tbody tr th {\n",
       "        vertical-align: top;\n",
       "    }\n",
       "\n",
       "    .dataframe thead th {\n",
       "        text-align: right;\n",
       "    }\n",
       "</style>\n",
       "<table border=\"1\" class=\"dataframe\">\n",
       "  <thead>\n",
       "    <tr style=\"text-align: right;\">\n",
       "      <th></th>\n",
       "      <th>year</th>\n",
       "      <th>month</th>\n",
       "      <th>day</th>\n",
       "      <th>average_rating</th>\n",
       "    </tr>\n",
       "  </thead>\n",
       "  <tbody>\n",
       "    <tr>\n",
       "      <th>year</th>\n",
       "      <td>1.000000</td>\n",
       "      <td>0.018740</td>\n",
       "      <td>0.057219</td>\n",
       "      <td>-0.061234</td>\n",
       "    </tr>\n",
       "    <tr>\n",
       "      <th>month</th>\n",
       "      <td>0.018740</td>\n",
       "      <td>1.000000</td>\n",
       "      <td>0.040433</td>\n",
       "      <td>0.028818</td>\n",
       "    </tr>\n",
       "    <tr>\n",
       "      <th>day</th>\n",
       "      <td>0.057219</td>\n",
       "      <td>0.040433</td>\n",
       "      <td>1.000000</td>\n",
       "      <td>-0.004724</td>\n",
       "    </tr>\n",
       "    <tr>\n",
       "      <th>average_rating</th>\n",
       "      <td>-0.061234</td>\n",
       "      <td>0.028818</td>\n",
       "      <td>-0.004724</td>\n",
       "      <td>1.000000</td>\n",
       "    </tr>\n",
       "  </tbody>\n",
       "</table>\n",
       "</div>"
      ],
      "text/plain": [
       "                    year     month       day  average_rating\n",
       "year            1.000000  0.018740  0.057219       -0.061234\n",
       "month           0.018740  1.000000  0.040433        0.028818\n",
       "day             0.057219  0.040433  1.000000       -0.004724\n",
       "average_rating -0.061234  0.028818 -0.004724        1.000000"
      ]
     },
     "execution_count": 36,
     "metadata": {},
     "output_type": "execute_result"
    }
   ],
   "source": [
    "selected_columns = ['year', 'month', 'day', 'average_rating']\n",
    "final_df[selected_columns].corr()"
   ]
  },
  {
   "cell_type": "code",
   "execution_count": 37,
   "metadata": {},
   "outputs": [],
   "source": [
    "final_df.to_csv(r\"Feature DB\\improved_dataset.csv\", index=False)"
   ]
  },
  {
   "cell_type": "markdown",
   "metadata": {},
   "source": [
    "<h2>Drop"
   ]
  },
  {
   "cell_type": "code",
   "execution_count": 38,
   "metadata": {},
   "outputs": [
    {
     "data": {
      "text/plain": [
       "Index(['bookID', 'title', 'authors', 'average_rating', 'isbn', 'isbn13',\n",
       "       'num_pages', 'ratings_count', 'text_reviews_count', 'publication_date',\n",
       "       'publisher', 'book_id', 'author_mean_rates', 'genres', 'year', 'month',\n",
       "       'day'],\n",
       "      dtype='object')"
      ]
     },
     "execution_count": 38,
     "metadata": {},
     "output_type": "execute_result"
    }
   ],
   "source": [
    "final_df.columns"
   ]
  },
  {
   "cell_type": "code",
   "execution_count": 39,
   "metadata": {},
   "outputs": [],
   "source": [
    "final_df = final_df.drop(columns=['bookID','book_id', 'isbn', 'isbn13', 'publisher', 'title', 'publication_date', 'authors', 'genres'], axis=1) "
   ]
  },
  {
   "cell_type": "markdown",
   "metadata": {},
   "source": [
    "<H2>Training"
   ]
  },
  {
   "cell_type": "code",
   "execution_count": 40,
   "metadata": {},
   "outputs": [],
   "source": [
    "X = final_df.drop(columns=['average_rating'], axis=1) \n",
    "y = final_df['average_rating']"
   ]
  },
  {
   "cell_type": "code",
   "execution_count": 41,
   "metadata": {},
   "outputs": [
    {
     "data": {
      "text/html": [
       "<div>\n",
       "<style scoped>\n",
       "    .dataframe tbody tr th:only-of-type {\n",
       "        vertical-align: middle;\n",
       "    }\n",
       "\n",
       "    .dataframe tbody tr th {\n",
       "        vertical-align: top;\n",
       "    }\n",
       "\n",
       "    .dataframe thead th {\n",
       "        text-align: right;\n",
       "    }\n",
       "</style>\n",
       "<table border=\"1\" class=\"dataframe\">\n",
       "  <thead>\n",
       "    <tr style=\"text-align: right;\">\n",
       "      <th></th>\n",
       "      <th>num_pages</th>\n",
       "      <th>ratings_count</th>\n",
       "      <th>text_reviews_count</th>\n",
       "      <th>author_mean_rates</th>\n",
       "      <th>year</th>\n",
       "      <th>month</th>\n",
       "      <th>day</th>\n",
       "    </tr>\n",
       "  </thead>\n",
       "  <tbody>\n",
       "    <tr>\n",
       "      <th>0</th>\n",
       "      <td>652</td>\n",
       "      <td>2095690</td>\n",
       "      <td>27591</td>\n",
       "      <td>4.463</td>\n",
       "      <td>2006.0</td>\n",
       "      <td>9.0</td>\n",
       "      <td>16.0</td>\n",
       "    </tr>\n",
       "    <tr>\n",
       "      <th>1</th>\n",
       "      <td>870</td>\n",
       "      <td>2153167</td>\n",
       "      <td>29221</td>\n",
       "      <td>4.463</td>\n",
       "      <td>2004.0</td>\n",
       "      <td>9.0</td>\n",
       "      <td>1.0</td>\n",
       "    </tr>\n",
       "    <tr>\n",
       "      <th>2</th>\n",
       "      <td>352</td>\n",
       "      <td>6333</td>\n",
       "      <td>244</td>\n",
       "      <td>4.440</td>\n",
       "      <td>2003.0</td>\n",
       "      <td>11.0</td>\n",
       "      <td>1.0</td>\n",
       "    </tr>\n",
       "    <tr>\n",
       "      <th>3</th>\n",
       "      <td>435</td>\n",
       "      <td>2339585</td>\n",
       "      <td>36325</td>\n",
       "      <td>4.463</td>\n",
       "      <td>2004.0</td>\n",
       "      <td>5.0</td>\n",
       "      <td>1.0</td>\n",
       "    </tr>\n",
       "    <tr>\n",
       "      <th>4</th>\n",
       "      <td>2690</td>\n",
       "      <td>41428</td>\n",
       "      <td>164</td>\n",
       "      <td>4.463</td>\n",
       "      <td>2004.0</td>\n",
       "      <td>9.0</td>\n",
       "      <td>13.0</td>\n",
       "    </tr>\n",
       "  </tbody>\n",
       "</table>\n",
       "</div>"
      ],
      "text/plain": [
       "   num_pages  ratings_count  text_reviews_count  author_mean_rates    year  \\\n",
       "0        652        2095690               27591              4.463  2006.0   \n",
       "1        870        2153167               29221              4.463  2004.0   \n",
       "2        352           6333                 244              4.440  2003.0   \n",
       "3        435        2339585               36325              4.463  2004.0   \n",
       "4       2690          41428                 164              4.463  2004.0   \n",
       "\n",
       "   month   day  \n",
       "0    9.0  16.0  \n",
       "1    9.0   1.0  \n",
       "2   11.0   1.0  \n",
       "3    5.0   1.0  \n",
       "4    9.0  13.0  "
      ]
     },
     "execution_count": 41,
     "metadata": {},
     "output_type": "execute_result"
    }
   ],
   "source": [
    "X.head()"
   ]
  },
  {
   "cell_type": "code",
   "execution_count": 42,
   "metadata": {},
   "outputs": [],
   "source": [
    "X_train, X_test, y_train, y_test = train_test_split(X, y, test_size=0.2, random_state=42)"
   ]
  },
  {
   "cell_type": "code",
   "execution_count": 43,
   "metadata": {},
   "outputs": [],
   "source": [
    "# Convert the data into LightGBM Dataset format\n",
    "train_data = lgb.Dataset(X_train, label=y_train)\n",
    "test_data = lgb.Dataset(X_test, label=y_test, reference=train_data)"
   ]
  },
  {
   "cell_type": "code",
   "execution_count": 44,
   "metadata": {},
   "outputs": [],
   "source": [
    "# Set parameters for the LightGBM model\n",
    "params = {\n",
    "    'objective': 'regression', \n",
    "    'metric': 'rmse',\n",
    "    'num_leaves': 31,\n",
    "    'learning_rate': 0.1,\n",
    "    'feature_fraction': 0.8,\n",
    "    'bagging_fraction': 0.8,\n",
    "    'bagging_freq': 5,\n",
    "    'verbose': 0,\n",
    "    'early_stopping_rounds': 10  # Set early stopping rounds here\n",
    "}\n"
   ]
  },
  {
   "cell_type": "markdown",
   "metadata": {},
   "source": [
    "<h2>Regression"
   ]
  },
  {
   "cell_type": "code",
   "execution_count": 45,
   "metadata": {},
   "outputs": [],
   "source": [
    "# Train the model\n",
    "num_boost_round = 1000  # we can set this to a large number\n",
    "lgb_model = lgb.train(params, train_data, num_boost_round=num_boost_round,valid_sets=[test_data])"
   ]
  },
  {
   "cell_type": "code",
   "execution_count": 46,
   "metadata": {},
   "outputs": [],
   "source": [
    "y_pred = lgb_model.predict(X_test, num_iteration=lgb_model.best_iteration)"
   ]
  },
  {
   "cell_type": "code",
   "execution_count": 47,
   "metadata": {},
   "outputs": [
    {
     "name": "stdout",
     "output_type": "stream",
     "text": [
      "Mean Squared Error: 0.038753314936039965\n",
      "Root Mean Squared Error: 0.19685861661618972\n",
      "R-squared (R2) Score: 0.45950347607277975\n"
     ]
    }
   ],
   "source": [
    "# Calculate Mean Squared Error\n",
    "mse = mean_squared_error(y_test, y_pred)\n",
    "print(\"Mean Squared Error:\", mse)\n",
    "\n",
    "# Calculate Root Mean Squared Error\n",
    "rmse = np.sqrt(mse)\n",
    "print(\"Root Mean Squared Error:\", rmse)\n",
    "\n",
    "# Calculate R-squared (R2 score)\n",
    "r2 = r2_score(y_test, y_pred)\n",
    "print(\"R-squared (R2) Score:\", r2)"
   ]
  },
  {
   "cell_type": "markdown",
   "metadata": {},
   "source": [
    "not really good precision"
   ]
  },
  {
   "cell_type": "code",
   "execution_count": 48,
   "metadata": {},
   "outputs": [
    {
     "data": {
      "image/png": "[encoded data removed]",
      "text/plain": [
       "<Figure size 1200x600 with 1 Axes>"
      ]
     },
     "metadata": {},
     "output_type": "display_data"
    }
   ],
   "source": [
    "# visualizing in a plot\n",
    "x_ax = range(len(y_test))\n",
    "plt.figure(figsize=(12, 6))\n",
    "plt.plot(x_ax, y_test, label=\"original\")\n",
    "plt.plot(x_ax, y_pred, label=\"predicted\")\n",
    "plt.title(\"book rating dataset test and predicted data\")\n",
    "plt.xlabel('X')\n",
    "plt.ylabel('autonomy')\n",
    "plt.legend(loc='best', fancybox=True, shadow=True)\n",
    "plt.grid(True)\n",
    "plt.show()\n"
   ]
  },
  {
   "cell_type": "code",
   "execution_count": 49,
   "metadata": {},
   "outputs": [
    {
     "data": {
      "image/png": "[encoded data removed]",
      "text/plain": [
       "<Figure size 1000x600 with 1 Axes>"
      ]
     },
     "metadata": {},
     "output_type": "display_data"
    }
   ],
   "source": [
    "# Plotting the results for Linear Regression\n",
    "plt.figure(figsize=(10, 6))\n",
    "plt.scatter(y_test, y_pred, color='blue', label='Predictions')\n",
    "plt.plot([min(y_test), max(y_test)], [min(y_test), max(y_test)], color='red', linestyle='--', label='Actual')\n",
    "plt.title('Linear Regression: Actual vs. Predicted Ratings')\n",
    "plt.xlabel('Actual Ratings')\n",
    "plt.ylabel('Predicted Ratings')\n",
    "plt.legend()\n",
    "plt.show()"
   ]
  },
  {
   "cell_type": "markdown",
   "metadata": {},
   "source": [
    "<H2>Random forest"
   ]
  },
  {
   "cell_type": "code",
   "execution_count": 50,
   "metadata": {},
   "outputs": [
    {
     "name": "stdout",
     "output_type": "stream",
     "text": [
      "Mean Squared Error: 0.03942058670613561\n",
      "Root Mean Squared Error: 0.19854618280424233\n",
      "R-squared (R2) Score: 0.45019696712388846\n"
     ]
    }
   ],
   "source": [
    "# Assuming you have a DataFrame named 'books_data' containing features and ratings\n",
    "# X contains the features and y contains the ratings\n",
    "\n",
    "# Splitting the data into training and testing sets\n",
    "\n",
    "# Creating a Random Forest Regression model\n",
    "rf_model = RandomForestRegressor(n_estimators=100, random_state=42)\n",
    "\n",
    "# Training the model\n",
    "rf_model.fit(X_train, y_train)\n",
    "\n",
    "# Making predictions\n",
    "predictions = rf_model.predict(X_test)\n",
    "\n",
    "# Evaluating the model\n",
    "# Calculate Mean Squared Error\n",
    "mse = mean_squared_error(y_test, predictions)\n",
    "print(\"Mean Squared Error:\", mse)\n",
    "\n",
    "# Calculate Root Mean Squared Error\n",
    "rmse = np.sqrt(mse)\n",
    "print(\"Root Mean Squared Error:\", rmse)\n",
    "\n",
    "# Calculate R-squared (R2 score)\n",
    "r2 = r2_score(y_test, predictions)\n",
    "print(\"R-squared (R2) Score:\", r2)\n"
   ]
  },
  {
   "cell_type": "code",
   "execution_count": 51,
   "metadata": {},
   "outputs": [
    {
     "data": {
      "image/png": "[encoded data removed]",
      "text/plain": [
       "<Figure size 1000x600 with 1 Axes>"
      ]
     },
     "metadata": {},
     "output_type": "display_data"
    }
   ],
   "source": [
    "# Plotting the results for Random Forest Regression\n",
    "plt.figure(figsize=(10, 6))\n",
    "plt.scatter(y_test, predictions, color='green', label='Predictions')\n",
    "plt.plot([min(y_test), max(y_test)], [min(y_test), max(y_test)], color='red', linestyle='--', label='Actual')\n",
    "plt.title('Random Forest Regression: Actual vs. Predicted Ratings')\n",
    "plt.xlabel('Actual Ratings')\n",
    "plt.ylabel('Predicted Ratings')\n",
    "plt.legend()\n",
    "plt.show()\n"
   ]
  },
  {
   "cell_type": "markdown",
   "metadata": {},
   "source": [
    "the regression is lightly the best"
   ]
  },
  {
   "cell_type": "markdown",
   "metadata": {},
   "source": [
    "# <h2>4. Solution 2 - feature engineering, refine and training"
   ]
  },
  {
   "cell_type": "markdown",
   "metadata": {},
   "source": [
    "<h2>Genres Columns feature - Vectorization"
   ]
  },
  {
   "cell_type": "code",
   "execution_count": 52,
   "metadata": {},
   "outputs": [],
   "source": [
    "final_df = pd.read_csv(r\"Feature DB\\improved_dataset.csv\")"
   ]
  },
  {
   "cell_type": "code",
   "execution_count": 53,
   "metadata": {},
   "outputs": [
    {
     "name": "stdout",
     "output_type": "stream",
     "text": [
      "{'mystery, thriller, crime', 'fiction', 'children', 'young-adult', 'romance', 'fantasy, paranormal', 'history, historical fiction, biography', 'poetry', 'comics, graphic', 'non-fiction'}\n",
      "10\n"
     ]
    }
   ],
   "source": [
    "genre = final_df[\"genres\"]\n",
    "l = []\n",
    "for each in genre:\n",
    "    each = str(each)\n",
    "    contenu_entre_tirets = re.findall(r\"'(.*?)'\", each)\n",
    "    for item in contenu_entre_tirets:\n",
    "        l.append(item)\n",
    "\n",
    "print(set(l))\n",
    "print(len(set(l)))\n",
    "columns_genre = list(set(l))"
   ]
  },
  {
   "cell_type": "markdown",
   "metadata": {},
   "source": [
    "So here we can see that there is 10 different categories of genres, so we can try a vectorization over this columns, we need for each columns to get every genres contained in the list"
   ]
  },
  {
   "cell_type": "code",
   "execution_count": 54,
   "metadata": {},
   "outputs": [
    {
     "data": {
      "text/html": [
       "<div>\n",
       "<style scoped>\n",
       "    .dataframe tbody tr th:only-of-type {\n",
       "        vertical-align: middle;\n",
       "    }\n",
       "\n",
       "    .dataframe tbody tr th {\n",
       "        vertical-align: top;\n",
       "    }\n",
       "\n",
       "    .dataframe thead th {\n",
       "        text-align: right;\n",
       "    }\n",
       "</style>\n",
       "<table border=\"1\" class=\"dataframe\">\n",
       "  <thead>\n",
       "    <tr style=\"text-align: right;\">\n",
       "      <th></th>\n",
       "      <th>title</th>\n",
       "      <th>authors</th>\n",
       "      <th>average_rating</th>\n",
       "      <th>num_pages</th>\n",
       "      <th>ratings_count</th>\n",
       "      <th>text_reviews_count</th>\n",
       "      <th>publication_date</th>\n",
       "      <th>author_mean_rates</th>\n",
       "      <th>year</th>\n",
       "      <th>month</th>\n",
       "      <th>...</th>\n",
       "      <th>children</th>\n",
       "      <th>comics, graphic</th>\n",
       "      <th>fantasy, paranormal</th>\n",
       "      <th>fiction</th>\n",
       "      <th>history, historical fiction, biography</th>\n",
       "      <th>mystery, thriller, crime</th>\n",
       "      <th>non-fiction</th>\n",
       "      <th>poetry</th>\n",
       "      <th>romance</th>\n",
       "      <th>young-adult</th>\n",
       "    </tr>\n",
       "  </thead>\n",
       "  <tbody>\n",
       "    <tr>\n",
       "      <th>0</th>\n",
       "      <td>Harry Potter and the Half-Blood Prince (Harry ...</td>\n",
       "      <td>J.K. Rowling/Mary GrandPré</td>\n",
       "      <td>4.57</td>\n",
       "      <td>652</td>\n",
       "      <td>2095690</td>\n",
       "      <td>27591</td>\n",
       "      <td>2006-09-16</td>\n",
       "      <td>4.463</td>\n",
       "      <td>2006.0</td>\n",
       "      <td>9.0</td>\n",
       "      <td>...</td>\n",
       "      <td>1.0</td>\n",
       "      <td>0.0</td>\n",
       "      <td>1.0</td>\n",
       "      <td>1.0</td>\n",
       "      <td>0.0</td>\n",
       "      <td>1.0</td>\n",
       "      <td>0.0</td>\n",
       "      <td>0.0</td>\n",
       "      <td>1.0</td>\n",
       "      <td>1.0</td>\n",
       "    </tr>\n",
       "    <tr>\n",
       "      <th>1</th>\n",
       "      <td>Harry Potter and the Order of the Phoenix (Har...</td>\n",
       "      <td>J.K. Rowling/Mary GrandPré</td>\n",
       "      <td>4.49</td>\n",
       "      <td>870</td>\n",
       "      <td>2153167</td>\n",
       "      <td>29221</td>\n",
       "      <td>2004-09-01</td>\n",
       "      <td>4.463</td>\n",
       "      <td>2004.0</td>\n",
       "      <td>9.0</td>\n",
       "      <td>...</td>\n",
       "      <td>1.0</td>\n",
       "      <td>0.0</td>\n",
       "      <td>1.0</td>\n",
       "      <td>1.0</td>\n",
       "      <td>0.0</td>\n",
       "      <td>1.0</td>\n",
       "      <td>0.0</td>\n",
       "      <td>0.0</td>\n",
       "      <td>1.0</td>\n",
       "      <td>1.0</td>\n",
       "    </tr>\n",
       "    <tr>\n",
       "      <th>2</th>\n",
       "      <td>Harry Potter and the Chamber of Secrets (Harry...</td>\n",
       "      <td>J.K. Rowling</td>\n",
       "      <td>4.42</td>\n",
       "      <td>352</td>\n",
       "      <td>6333</td>\n",
       "      <td>244</td>\n",
       "      <td>2003-11-01</td>\n",
       "      <td>4.440</td>\n",
       "      <td>2003.0</td>\n",
       "      <td>11.0</td>\n",
       "      <td>...</td>\n",
       "      <td>1.0</td>\n",
       "      <td>0.0</td>\n",
       "      <td>1.0</td>\n",
       "      <td>1.0</td>\n",
       "      <td>0.0</td>\n",
       "      <td>1.0</td>\n",
       "      <td>0.0</td>\n",
       "      <td>0.0</td>\n",
       "      <td>0.0</td>\n",
       "      <td>1.0</td>\n",
       "    </tr>\n",
       "    <tr>\n",
       "      <th>3</th>\n",
       "      <td>Harry Potter and the Prisoner of Azkaban (Harr...</td>\n",
       "      <td>J.K. Rowling/Mary GrandPré</td>\n",
       "      <td>4.56</td>\n",
       "      <td>435</td>\n",
       "      <td>2339585</td>\n",
       "      <td>36325</td>\n",
       "      <td>2004-05-01</td>\n",
       "      <td>4.463</td>\n",
       "      <td>2004.0</td>\n",
       "      <td>5.0</td>\n",
       "      <td>...</td>\n",
       "      <td>1.0</td>\n",
       "      <td>0.0</td>\n",
       "      <td>1.0</td>\n",
       "      <td>1.0</td>\n",
       "      <td>0.0</td>\n",
       "      <td>1.0</td>\n",
       "      <td>0.0</td>\n",
       "      <td>0.0</td>\n",
       "      <td>0.0</td>\n",
       "      <td>1.0</td>\n",
       "    </tr>\n",
       "    <tr>\n",
       "      <th>4</th>\n",
       "      <td>Harry Potter Boxed Set  Books 1-5 (Harry Potte...</td>\n",
       "      <td>J.K. Rowling/Mary GrandPré</td>\n",
       "      <td>4.78</td>\n",
       "      <td>2690</td>\n",
       "      <td>41428</td>\n",
       "      <td>164</td>\n",
       "      <td>2004-09-13</td>\n",
       "      <td>4.463</td>\n",
       "      <td>2004.0</td>\n",
       "      <td>9.0</td>\n",
       "      <td>...</td>\n",
       "      <td>1.0</td>\n",
       "      <td>0.0</td>\n",
       "      <td>1.0</td>\n",
       "      <td>1.0</td>\n",
       "      <td>0.0</td>\n",
       "      <td>1.0</td>\n",
       "      <td>0.0</td>\n",
       "      <td>0.0</td>\n",
       "      <td>0.0</td>\n",
       "      <td>1.0</td>\n",
       "    </tr>\n",
       "  </tbody>\n",
       "</table>\n",
       "<p>5 rows × 21 columns</p>\n",
       "</div>"
      ],
      "text/plain": [
       "                                               title  \\\n",
       "0  Harry Potter and the Half-Blood Prince (Harry ...   \n",
       "1  Harry Potter and the Order of the Phoenix (Har...   \n",
       "2  Harry Potter and the Chamber of Secrets (Harry...   \n",
       "3  Harry Potter and the Prisoner of Azkaban (Harr...   \n",
       "4  Harry Potter Boxed Set  Books 1-5 (Harry Potte...   \n",
       "\n",
       "                      authors  average_rating  num_pages  ratings_count  \\\n",
       "0  J.K. Rowling/Mary GrandPré            4.57        652        2095690   \n",
       "1  J.K. Rowling/Mary GrandPré            4.49        870        2153167   \n",
       "2                J.K. Rowling            4.42        352           6333   \n",
       "3  J.K. Rowling/Mary GrandPré            4.56        435        2339585   \n",
       "4  J.K. Rowling/Mary GrandPré            4.78       2690          41428   \n",
       "\n",
       "   text_reviews_count publication_date  author_mean_rates    year  month  ...  \\\n",
       "0               27591       2006-09-16              4.463  2006.0    9.0  ...   \n",
       "1               29221       2004-09-01              4.463  2004.0    9.0  ...   \n",
       "2                 244       2003-11-01              4.440  2003.0   11.0  ...   \n",
       "3               36325       2004-05-01              4.463  2004.0    5.0  ...   \n",
       "4                 164       2004-09-13              4.463  2004.0    9.0  ...   \n",
       "\n",
       "   children  comics, graphic  fantasy, paranormal  fiction  \\\n",
       "0       1.0              0.0                  1.0      1.0   \n",
       "1       1.0              0.0                  1.0      1.0   \n",
       "2       1.0              0.0                  1.0      1.0   \n",
       "3       1.0              0.0                  1.0      1.0   \n",
       "4       1.0              0.0                  1.0      1.0   \n",
       "\n",
       "   history, historical fiction, biography  mystery, thriller, crime  \\\n",
       "0                                     0.0                       1.0   \n",
       "1                                     0.0                       1.0   \n",
       "2                                     0.0                       1.0   \n",
       "3                                     0.0                       1.0   \n",
       "4                                     0.0                       1.0   \n",
       "\n",
       "   non-fiction  poetry  romance  young-adult  \n",
       "0          0.0     0.0      1.0          1.0  \n",
       "1          0.0     0.0      1.0          1.0  \n",
       "2          0.0     0.0      0.0          1.0  \n",
       "3          0.0     0.0      0.0          1.0  \n",
       "4          0.0     0.0      0.0          1.0  \n",
       "\n",
       "[5 rows x 21 columns]"
      ]
     },
     "execution_count": 54,
     "metadata": {},
     "output_type": "execute_result"
    }
   ],
   "source": [
    "final_df['genres'] = final_df['genres'].apply(lambda x: eval(x))\n",
    "vectorise_genre=pd.get_dummies(final_df['genres'].apply(pd.Series).stack()).groupby(level=0).sum()\n",
    "\n",
    "# Replace NaN values with zeros in specified columns\n",
    "final_df = pd.concat([final_df.drop('genres', axis=1), vectorise_genre], axis=1)\n",
    "\n",
    "final_df=final_df.drop(columns=[\"bookID\",\"isbn\",\"isbn13\",\"book_id\",\"publisher\"], axis=1)\n",
    "final_df.head()"
   ]
  },
  {
   "cell_type": "code",
   "execution_count": 55,
   "metadata": {},
   "outputs": [
    {
     "data": {
      "text/plain": [
       "title                                      0\n",
       "authors                                    0\n",
       "average_rating                             0\n",
       "num_pages                                  0\n",
       "ratings_count                              0\n",
       "text_reviews_count                         0\n",
       "publication_date                           0\n",
       "author_mean_rates                          0\n",
       "year                                       0\n",
       "month                                      0\n",
       "day                                        0\n",
       "children                                  39\n",
       "comics, graphic                           39\n",
       "fantasy, paranormal                       39\n",
       "fiction                                   39\n",
       "history, historical fiction, biography    39\n",
       "mystery, thriller, crime                  39\n",
       "non-fiction                               39\n",
       "poetry                                    39\n",
       "romance                                   39\n",
       "young-adult                               39\n",
       "dtype: int64"
      ]
     },
     "execution_count": 55,
     "metadata": {},
     "output_type": "execute_result"
    }
   ],
   "source": [
    "final_df.isna().sum()"
   ]
  },
  {
   "cell_type": "markdown",
   "metadata": {},
   "source": [
    "we have some NaN value in the raws when there were no genres associated so we fill them with 0 for showing that they don't have genres"
   ]
  },
  {
   "cell_type": "code",
   "execution_count": 56,
   "metadata": {},
   "outputs": [],
   "source": [
    "for column in columns_genre:\n",
    "    final_df[column] = final_df[column].fillna(0)"
   ]
  },
  {
   "cell_type": "code",
   "execution_count": 57,
   "metadata": {},
   "outputs": [
    {
     "data": {
      "text/plain": [
       "title                                     0\n",
       "authors                                   0\n",
       "average_rating                            0\n",
       "num_pages                                 0\n",
       "ratings_count                             0\n",
       "text_reviews_count                        0\n",
       "publication_date                          0\n",
       "author_mean_rates                         0\n",
       "year                                      0\n",
       "month                                     0\n",
       "day                                       0\n",
       "children                                  0\n",
       "comics, graphic                           0\n",
       "fantasy, paranormal                       0\n",
       "fiction                                   0\n",
       "history, historical fiction, biography    0\n",
       "mystery, thriller, crime                  0\n",
       "non-fiction                               0\n",
       "poetry                                    0\n",
       "romance                                   0\n",
       "young-adult                               0\n",
       "dtype: int64"
      ]
     },
     "execution_count": 57,
     "metadata": {},
     "output_type": "execute_result"
    }
   ],
   "source": [
    "final_df.isna().sum()"
   ]
  },
  {
   "cell_type": "code",
   "execution_count": 58,
   "metadata": {},
   "outputs": [],
   "source": [
    "final_df.to_csv(r\"Feature DB\\improved_dataset.csv\", index=False)"
   ]
  },
  {
   "cell_type": "code",
   "execution_count": 59,
   "metadata": {},
   "outputs": [
    {
     "data": {
      "text/plain": [
       "Index(['title', 'authors', 'average_rating', 'num_pages', 'ratings_count',\n",
       "       'text_reviews_count', 'publication_date', 'author_mean_rates', 'year',\n",
       "       'month', 'day', 'children', 'comics, graphic', 'fantasy, paranormal',\n",
       "       'fiction', 'history, historical fiction, biography',\n",
       "       'mystery, thriller, crime', 'non-fiction', 'poetry', 'romance',\n",
       "       'young-adult'],\n",
       "      dtype='object')"
      ]
     },
     "execution_count": 59,
     "metadata": {},
     "output_type": "execute_result"
    }
   ],
   "source": [
    "final_df.columns"
   ]
  },
  {
   "cell_type": "markdown",
   "metadata": {},
   "source": [
    "<h2> Count words in titles </h2>"
   ]
  },
  {
   "cell_type": "code",
   "execution_count": 60,
   "metadata": {},
   "outputs": [],
   "source": [
    "final_df['title_word_count'] = final_df['title'].apply(lambda x: len(str(x).split()))"
   ]
  },
  {
   "cell_type": "markdown",
   "metadata": {},
   "source": [
    "<h2> Count authors </h2>"
   ]
  },
  {
   "cell_type": "code",
   "execution_count": 61,
   "metadata": {},
   "outputs": [],
   "source": [
    "final_df['authors_name_count'] = final_df['authors'].apply(lambda x: len(str(x).split('/')))"
   ]
  },
  {
   "cell_type": "code",
   "execution_count": 62,
   "metadata": {},
   "outputs": [],
   "source": [
    "final_df.to_csv(r\"Feature DB\\improved_dataset.csv\", index=False)"
   ]
  },
  {
   "cell_type": "code",
   "execution_count": 63,
   "metadata": {},
   "outputs": [
    {
     "data": {
      "text/plain": [
       "Index(['title', 'authors', 'average_rating', 'num_pages', 'ratings_count',\n",
       "       'text_reviews_count', 'publication_date', 'author_mean_rates', 'year',\n",
       "       'month', 'day', 'children', 'comics, graphic', 'fantasy, paranormal',\n",
       "       'fiction', 'history, historical fiction, biography',\n",
       "       'mystery, thriller, crime', 'non-fiction', 'poetry', 'romance',\n",
       "       'young-adult', 'title_word_count', 'authors_name_count'],\n",
       "      dtype='object')"
      ]
     },
     "execution_count": 63,
     "metadata": {},
     "output_type": "execute_result"
    }
   ],
   "source": [
    "final_df.columns"
   ]
  },
  {
   "cell_type": "code",
   "execution_count": null,
   "metadata": {},
   "outputs": [],
   "source": []
  },
  {
   "cell_type": "code",
   "execution_count": 64,
   "metadata": {},
   "outputs": [
    {
     "data": {
      "text/plain": [
       "title                                     0\n",
       "authors                                   0\n",
       "average_rating                            0\n",
       "num_pages                                 0\n",
       "ratings_count                             0\n",
       "text_reviews_count                        0\n",
       "publication_date                          0\n",
       "author_mean_rates                         0\n",
       "year                                      0\n",
       "month                                     0\n",
       "day                                       0\n",
       "children                                  0\n",
       "comics, graphic                           0\n",
       "fantasy, paranormal                       0\n",
       "fiction                                   0\n",
       "history, historical fiction, biography    0\n",
       "mystery, thriller, crime                  0\n",
       "non-fiction                               0\n",
       "poetry                                    0\n",
       "romance                                   0\n",
       "young-adult                               0\n",
       "title_word_count                          0\n",
       "authors_name_count                        0\n",
       "dtype: int64"
      ]
     },
     "execution_count": 64,
     "metadata": {},
     "output_type": "execute_result"
    }
   ],
   "source": [
    "final_df.isna().sum()"
   ]
  },
  {
   "cell_type": "code",
   "execution_count": 65,
   "metadata": {},
   "outputs": [],
   "source": [
    "index = final_df.columns\n",
    "for each in index:\n",
    "    final_df = final_df.rename(columns={f\"{each}\" : f\"{each.replace(',', '_').replace(' ','')}\"})"
   ]
  },
  {
   "cell_type": "markdown",
   "metadata": {},
   "source": [
    "<h2>Drop"
   ]
  },
  {
   "cell_type": "code",
   "execution_count": 66,
   "metadata": {},
   "outputs": [],
   "source": [
    "final_df = final_df.drop(['title', 'authors','publication_date'],axis=1)"
   ]
  },
  {
   "cell_type": "markdown",
   "metadata": {},
   "source": [
    "<h2>training"
   ]
  },
  {
   "cell_type": "code",
   "execution_count": 67,
   "metadata": {},
   "outputs": [
    {
     "data": {
      "text/plain": [
       "average_rating                         1.000000\n",
       "num_pages                              0.190673\n",
       "ratings_count                          0.046939\n",
       "text_reviews_count                     0.038403\n",
       "author_mean_rates                      0.663168\n",
       "year                                  -0.061234\n",
       "month                                  0.028818\n",
       "day                                   -0.004724\n",
       "children                               0.075237\n",
       "comics_graphic                         0.133356\n",
       "fantasy_paranormal                     0.046476\n",
       "fiction                               -0.077092\n",
       "history_historicalfiction_biography    0.042261\n",
       "mystery_thriller_crime                -0.072185\n",
       "non-fiction                            0.127024\n",
       "poetry                                 0.084534\n",
       "romance                               -0.082876\n",
       "young-adult                            0.067407\n",
       "title_word_count                       0.165503\n",
       "authors_name_count                     0.033622\n",
       "Name: average_rating, dtype: float64"
      ]
     },
     "execution_count": 67,
     "metadata": {},
     "output_type": "execute_result"
    }
   ],
   "source": [
    "corr = final_df.corr()\n",
    "corr['average_rating']"
   ]
  },
  {
   "cell_type": "markdown",
   "metadata": {},
   "source": [
    "some columns have a light correlation but we keep it for trying to have the best result"
   ]
  },
  {
   "cell_type": "markdown",
   "metadata": {},
   "source": [
    "<h2>Regression"
   ]
  },
  {
   "cell_type": "code",
   "execution_count": 68,
   "metadata": {},
   "outputs": [],
   "source": [
    "X = final_df.drop(columns=['average_rating'], axis=1)\n",
    "#X = X.drop(X.)\n",
    "y = final_df['average_rating']"
   ]
  },
  {
   "cell_type": "code",
   "execution_count": 69,
   "metadata": {},
   "outputs": [],
   "source": [
    "X_train, X_test, y_train, y_test = train_test_split(X, y, test_size=0.2, random_state=42)"
   ]
  },
  {
   "cell_type": "code",
   "execution_count": 70,
   "metadata": {},
   "outputs": [],
   "source": [
    "# Convert the data into LightGBM Dataset format\n",
    "train_data = lgb.Dataset(X_train, label=y_train)\n",
    "test_data = lgb.Dataset(X_test, label=y_test, reference=train_data)"
   ]
  },
  {
   "cell_type": "code",
   "execution_count": 71,
   "metadata": {},
   "outputs": [],
   "source": [
    "# Set parameters for the LightGBM model\n",
    "params = {\n",
    "    'objective': 'regression', \n",
    "    'metric': 'rmse',\n",
    "    'num_leaves': 31,\n",
    "    'learning_rate': 0.1,\n",
    "    'feature_fraction': 0.8,\n",
    "    'bagging_fraction': 0.8,\n",
    "    'bagging_freq': 5,\n",
    "    'verbose': 0,\n",
    "    'iteration':1000,\n",
    "    'early_stopping_rounds': 10  # Set early stopping rounds here\n",
    "}"
   ]
  },
  {
   "cell_type": "code",
   "execution_count": 72,
   "metadata": {},
   "outputs": [
    {
     "name": "stdout",
     "output_type": "stream",
     "text": [
      "[LightGBM] [Warning] Unknown parameter: iteration\n",
      "[LightGBM] [Warning] Unknown parameter: iteration\n",
      "[LightGBM] [Warning] Unknown parameter: iteration\n"
     ]
    }
   ],
   "source": [
    "# Train the model\n",
    "num_boost_round = 1000  # we can set this to a large number\n",
    "lgb_model = lgb.train(params, train_data, num_boost_round=num_boost_round,valid_sets=[test_data])"
   ]
  },
  {
   "cell_type": "code",
   "execution_count": 73,
   "metadata": {},
   "outputs": [],
   "source": [
    "y_pred = lgb_model.predict(X_test, num_iteration=lgb_model.best_iteration)"
   ]
  },
  {
   "cell_type": "code",
   "execution_count": 74,
   "metadata": {},
   "outputs": [
    {
     "name": "stdout",
     "output_type": "stream",
     "text": [
      "Mean Squared Error: 0.03557626159762607\n",
      "Root Mean Squared Error: 0.18861670551047718\n",
      "R-squared (R2) Score: 0.5038141702308974\n"
     ]
    }
   ],
   "source": [
    "# Calculate Mean Squared Error\n",
    "mse = mean_squared_error(y_test, y_pred)\n",
    "print(\"Mean Squared Error:\", mse)\n",
    "\n",
    "# Calculate Root Mean Squared Error\n",
    "rmse = np.sqrt(mse)\n",
    "print(\"Root Mean Squared Error:\", rmse)\n",
    "\n",
    "# Calculate R-squared (R2 score)\n",
    "r2 = r2_score(y_test, y_pred)\n",
    "print(\"R-squared (R2) Score:\", r2)"
   ]
  },
  {
   "cell_type": "code",
   "execution_count": 75,
   "metadata": {},
   "outputs": [
    {
     "data": {
      "image/png": "[encoded data removed]",
      "text/plain": [
       "<Figure size 1200x600 with 1 Axes>"
      ]
     },
     "metadata": {},
     "output_type": "display_data"
    }
   ],
   "source": [
    "# visualizing in a plot\n",
    "x_ax = range(len(y_test))\n",
    "plt.figure(figsize=(12, 6))\n",
    "plt.plot(x_ax, y_test, label=\"original\")\n",
    "plt.plot(x_ax, y_pred, label=\"predicted\")\n",
    "plt.title(\"book rating dataset test and predicted data\")\n",
    "plt.xlabel('X')\n",
    "plt.ylabel('Average_rating')\n",
    "plt.legend(loc='best', fancybox=True, shadow=True)\n",
    "plt.grid(True)\n",
    "plt.show()"
   ]
  },
  {
   "cell_type": "code",
   "execution_count": 76,
   "metadata": {},
   "outputs": [
    {
     "data": {
      "image/png": "[encoded data removed]",
      "text/plain": [
       "<Figure size 1000x600 with 1 Axes>"
      ]
     },
     "metadata": {},
     "output_type": "display_data"
    }
   ],
   "source": [
    "# Plotting the results for Linear Regression\n",
    "plt.figure(figsize=(10, 6))\n",
    "plt.scatter(y_test, predictions, color='blue', label='Predictions')\n",
    "plt.plot([min(y_test), max(y_test)], [min(y_test), max(y_test)], color='red', linestyle='--', label='Actual')\n",
    "plt.title('Linear Regression: Actual vs. Predicted Ratings')\n",
    "plt.xlabel('Actual Ratings')\n",
    "plt.ylabel('Predicted Ratings')\n",
    "plt.legend()\n",
    "plt.show()"
   ]
  },
  {
   "cell_type": "markdown",
   "metadata": {},
   "source": [
    " The decrease in RMSE from 0.196 to 0.188 is a positive outcome, indicating that our regression model is performing better in terms of predicting book ratings. It suggests increased accuracy and reduced prediction errors, leading to a more reliable model that's what we can see in the plot."
   ]
  },
  {
   "cell_type": "markdown",
   "metadata": {},
   "source": [
    "<h2>Random Forest"
   ]
  },
  {
   "cell_type": "code",
   "execution_count": 77,
   "metadata": {},
   "outputs": [
    {
     "name": "stdout",
     "output_type": "stream",
     "text": [
      "Mean Squared Error: 0.035692395914962316\n",
      "Root Mean Squared Error: 0.18892431266240542\n",
      "R-squared (R2) Score: 0.5021944327985643\n"
     ]
    }
   ],
   "source": [
    "\n",
    "\n",
    "# Assuming you have a DataFrame named 'books_data' containing features and ratings\n",
    "# X contains the features and y contains the ratings\n",
    "\n",
    "# Splitting the data into training and testing sets\n",
    "\n",
    "# Creating a Random Forest Regression model\n",
    "rf_model = RandomForestRegressor(n_estimators=100, random_state=42)\n",
    "\n",
    "# Training the model\n",
    "rf_model.fit(X_train, y_train)\n",
    "\n",
    "# Making predictions\n",
    "predictions = rf_model.predict(X_test)\n",
    "\n",
    "# Evaluating the model\n",
    "# Calculate Mean Squared Error\n",
    "mse = mean_squared_error(y_test, predictions)\n",
    "print(\"Mean Squared Error:\", mse)\n",
    "\n",
    "# Calculate Root Mean Squared Error\n",
    "rmse = np.sqrt(mse)\n",
    "print(\"Root Mean Squared Error:\", rmse)\n",
    "\n",
    "# Calculate R-squared (R2 score)\n",
    "r2 = r2_score(y_test, predictions)\n",
    "print(\"R-squared (R2) Score:\", r2)"
   ]
  },
  {
   "cell_type": "code",
   "execution_count": 78,
   "metadata": {},
   "outputs": [
    {
     "data": {
      "image/png": "[encoded data removed]",
      "text/plain": [
       "<Figure size 1000x600 with 1 Axes>"
      ]
     },
     "metadata": {},
     "output_type": "display_data"
    }
   ],
   "source": [
    "# Plotting the results for Random Forest Regression\n",
    "plt.figure(figsize=(10, 6))\n",
    "plt.scatter(y_test, predictions, color='green', label='Predictions')\n",
    "plt.plot([min(y_test), max(y_test)], [min(y_test), max(y_test)], color='red', linestyle='--', label='Actual')\n",
    "plt.title('Random Forest Regression: Actual vs. Predicted Ratings')\n",
    "plt.xlabel('Actual Ratings')\n",
    "plt.ylabel('Predicted Ratings')\n",
    "plt.legend()\n",
    "plt.show()\n"
   ]
  },
  {
   "cell_type": "markdown",
   "metadata": {},
   "source": [
    "<h2>GBM XGBoost"
   ]
  },
  {
   "cell_type": "code",
   "execution_count": 79,
   "metadata": {},
   "outputs": [
    {
     "name": "stdout",
     "output_type": "stream",
     "text": [
      "Mean Squared Error: 0.035692395914962316\n",
      "Root Mean Squared Error: 0.18892431266240542\n",
      "R-squared (R2) Score: 0.5021944327985643\n"
     ]
    }
   ],
   "source": [
    "\n",
    "\n",
    "# Splitting the dataset into training and testing sets\n",
    "\n",
    "X_train, X_test, y_train, y_test = train_test_split(X, y, test_size=0.2, random_state=42)\n",
    "\n",
    "# Training the XGBoost model\n",
    "model = xgb.XGBRegressor(objective='reg:squarederror', random_state=42)\n",
    "model.fit(X_train, y_train)\n",
    "\n",
    "# Making predictions on the test set\n",
    "y_pred = model.predict(X_test)\n",
    "\n",
    "# Evaluating the model\n",
    "# Calculate Mean Squared Error\n",
    "mse = mean_squared_error(y_test, predictions)\n",
    "print(\"Mean Squared Error:\", mse)\n",
    "\n",
    "# Calculate Root Mean Squared Error\n",
    "rmse = np.sqrt(mse)\n",
    "print(\"Root Mean Squared Error:\", rmse)\n",
    "\n",
    "# Calculate R-squared (R2 score)\n",
    "r2 = r2_score(y_test, predictions)\n",
    "print(\"R-squared (R2) Score:\", r2)"
   ]
  },
  {
   "cell_type": "markdown",
   "metadata": {},
   "source": [
    "<h2>Neural Networks"
   ]
  },
  {
   "cell_type": "code",
   "execution_count": 86,
   "metadata": {},
   "outputs": [
    {
     "name": "stdout",
     "output_type": "stream",
     "text": [
      "Epoch 1/10\n"
     ]
    },
    {
     "name": "stderr",
     "output_type": "stream",
     "text": [
      "c:\\Users\\natha\\.conda\\envs\\MLP\\Lib\\site-packages\\keras\\src\\layers\\core\\dense.py:85: UserWarning: Do not pass an `input_shape`/`input_dim` argument to a layer. When using Sequential models, prefer using an `Input(shape)` object as the first layer in the model instead.\n",
      "  super().__init__(activity_regularizer=activity_regularizer, **kwargs)\n"
     ]
    },
    {
     "name": "stdout",
     "output_type": "stream",
     "text": [
      "\u001b[1m186/186\u001b[0m \u001b[32m━━━━━━━━━━━━━━━━━━━━\u001b[0m\u001b[37m\u001b[0m \u001b[1m1s\u001b[0m 2ms/step - loss: 4.9740 - mae: 1.7375 - val_loss: 0.2618 - val_mae: 0.3796\n",
      "Epoch 2/10\n",
      "\u001b[1m186/186\u001b[0m \u001b[32m━━━━━━━━━━━━━━━━━━━━\u001b[0m\u001b[37m\u001b[0m \u001b[1m0s\u001b[0m 960us/step - loss: 0.2410 - mae: 0.3564 - val_loss: 0.1379 - val_mae: 0.2812\n",
      "Epoch 3/10\n",
      "\u001b[1m186/186\u001b[0m \u001b[32m━━━━━━━━━━━━━━━━━━━━\u001b[0m\u001b[37m\u001b[0m \u001b[1m0s\u001b[0m 1ms/step - loss: 0.1364 - mae: 0.2691 - val_loss: 0.0960 - val_mae: 0.2357\n",
      "Epoch 4/10\n",
      "\u001b[1m186/186\u001b[0m \u001b[32m━━━━━━━━━━━━━━━━━━━━\u001b[0m\u001b[37m\u001b[0m \u001b[1m0s\u001b[0m 1ms/step - loss: 0.0899 - mae: 0.2273 - val_loss: 0.0771 - val_mae: 0.2098\n",
      "Epoch 5/10\n",
      "\u001b[1m186/186\u001b[0m \u001b[32m━━━━━━━━━━━━━━━━━━━━\u001b[0m\u001b[37m\u001b[0m \u001b[1m0s\u001b[0m 1ms/step - loss: 0.0711 - mae: 0.2028 - val_loss: 0.0638 - val_mae: 0.1883\n",
      "Epoch 6/10\n",
      "\u001b[1m186/186\u001b[0m \u001b[32m━━━━━━━━━━━━━━━━━━━━\u001b[0m\u001b[37m\u001b[0m \u001b[1m0s\u001b[0m 1ms/step - loss: 0.0586 - mae: 0.1834 - val_loss: 0.0598 - val_mae: 0.1836\n",
      "Epoch 7/10\n",
      "\u001b[1m186/186\u001b[0m \u001b[32m━━━━━━━━━━━━━━━━━━━━\u001b[0m\u001b[37m\u001b[0m \u001b[1m0s\u001b[0m 1ms/step - loss: 0.0526 - mae: 0.1751 - val_loss: 0.0580 - val_mae: 0.1835\n",
      "Epoch 8/10\n",
      "\u001b[1m186/186\u001b[0m \u001b[32m━━━━━━━━━━━━━━━━━━━━\u001b[0m\u001b[37m\u001b[0m \u001b[1m0s\u001b[0m 1ms/step - loss: 0.0514 - mae: 0.1713 - val_loss: 0.0529 - val_mae: 0.1731\n",
      "Epoch 9/10\n",
      "\u001b[1m186/186\u001b[0m \u001b[32m━━━━━━━━━━━━━━━━━━━━\u001b[0m\u001b[37m\u001b[0m \u001b[1m0s\u001b[0m 1ms/step - loss: 0.0454 - mae: 0.1635 - val_loss: 0.0526 - val_mae: 0.1737\n",
      "Epoch 10/10\n",
      "\u001b[1m186/186\u001b[0m \u001b[32m━━━━━━━━━━━━━━━━━━━━\u001b[0m\u001b[37m\u001b[0m \u001b[1m0s\u001b[0m 1ms/step - loss: 0.0440 - mae: 0.1585 - val_loss: 0.0500 - val_mae: 0.1690\n",
      "\u001b[1m59/59\u001b[0m \u001b[32m━━━━━━━━━━━━━━━━━━━━\u001b[0m\u001b[37m\u001b[0m \u001b[1m0s\u001b[0m 700us/step - loss: 0.0557 - mae: 0.1767\n",
      "\u001b[1m59/59\u001b[0m \u001b[32m━━━━━━━━━━━━━━━━━━━━\u001b[0m\u001b[37m\u001b[0m \u001b[1m0s\u001b[0m 1ms/step\n",
      "R-squared (R2) Score: 0.28802345331095003\n",
      "Mean Squared Error: 0.05104834188467455\n",
      "rmse:  0.22593880119331994\n",
      "r2:  0.28802345331095003\n"
     ]
    }
   ],
   "source": [
    "\n",
    "\n",
    "# Assuming you have a dataset with features (X) and ratings (y)\n",
    "# X should be a matrix where each row represents a book and each column represents a feature\n",
    "# y should be a vector of book ratings\n",
    "\n",
    "# Split the dataset into training and testing sets\n",
    "X_train, X_test, y_train, y_test = train_test_split(X, y, test_size=0.2, random_state=42)\n",
    "\n",
    "# Standardize the features\n",
    "scaler = StandardScaler()\n",
    "X_train_scaled = scaler.fit_transform(X_train)\n",
    "X_test_scaled = scaler.transform(X_test)\n",
    "\n",
    "# Build the neural network model\n",
    "model = tf.keras.Sequential([\n",
    "    tf.keras.layers.Dense(64, activation='relu', input_shape=(X_train_scaled.shape[1],)),\n",
    "    tf.keras.layers.Dense(32, activation='relu'),\n",
    "    tf.keras.layers.Dense(1)  # Output layer with single neuron for regression\n",
    "])\n",
    "\n",
    "# Compile the model\n",
    "model.compile(optimizer='adam', loss='mean_squared_error', metrics=['mae'])\n",
    "\n",
    "# Train the model\n",
    "history = model.fit(X_train_scaled, y_train, epochs=10, batch_size=32, validation_split=0.2)\n",
    "\n",
    "# Evaluate the model on the test set\n",
    "loss, mae = model.evaluate(X_test_scaled, y_test)\n",
    "\n",
    "# Evaluating the model\n",
    "\n",
    "# Make predictions\n",
    "predictions = model.predict(X_test_scaled)\n",
    "\n",
    "# Calculate R-squared (R2 score)\n",
    "r2 = r2_score(y_test, predictions)\n",
    "print(\"R-squared (R2) Score:\", r2)\n",
    "\n",
    "# Calculate Mean Squared Error\n",
    "mse = mean_squared_error(y_test, predictions)\n",
    "print(\"Mean Squared Error:\", mse)\n",
    "print(\"rmse: \",np.sqrt(mse))\n",
    "\n",
    "\n",
    "r2 = r2_score(y_test, predictions)\n",
    "print(\"r2: \", r2)\n"
   ]
  }
 ],
 "metadata": {
  "kernelspec": {
   "display_name": "MLP",
   "language": "python",
   "name": "python3"
  },
  "language_info": {
   "codemirror_mode": {
    "name": "ipython",
    "version": 3
   },
   "file_extension": ".py",
   "mimetype": "text/x-python",
   "name": "python",
   "nbconvert_exporter": "python",
   "pygments_lexer": "ipython3",
   "version": "3.11.8"
  }
 },
 "nbformat": 4,
 "nbformat_minor": 2
}
